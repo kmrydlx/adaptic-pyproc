{
 "cells": [
  {
   "cell_type": "markdown",
   "metadata": {},
   "source": [
    "# ADAPTIC materials\n",
    "\n",
    "This notebook illustrates how to incorporate __ADAPTIC__ material classes from _material.py_ module.\n",
    "\n",
    "## con1\n",
    "\n",
    "```python\n",
    "materials.con1(ID, fc1, length, fc2_factor = 0.05, characteristic = True)\n",
    "```\n",
    "\n",
    "|Parameter|Type|Description|\n",
    "|:-:|:-:|:-:|\n",
    "|ID|str|name of the material|\n",
    "|fc1|float|peak compressive strength|\n",
    "|fcm|float|mean compressive strength|\n",
    "|length|float|element length|\n",
    "|fc2_factor|float in range [0,1]|residual strength factor|\n",
    "\n",
    "_Con1_ is a trilinear curve model in compression with an optional quadratic initial response . Tensile stage is given by a bilinear curve with softening.\n",
    "\n",
    "![image](../assets/images/materials.con1_graph.png)\n",
    "\n",
    "Initial compressive response is defined by the parameter $\\alpha$, which is based on $E_{c0}$ and $E_{c1}$. Elastic initial modulus $E_{c0}$ is based on the parabolic curve. $E_{c1}$ is the secant modulus from the origin to the peak compressive stress. If $\\alpha > 0$, a quadratic initial compressive response is implied.\n",
    "\n",
    "Mean strength $f_{cm}$ is used to calculate fracture energy $G_f$. Element length $h$ is used to determine crack-band width. User can specify residual strength as the fraction of the peak strength. This is taken as 5% by default $f_{c2} = 0.05f_{c1}$.\n",
    "\n",
    "Most of the other parameters are calculated according to <em>CEB-FIP Model Code 1990 (MC 1990)</em>, <em>CEB-FIP Model Code 2010 (MC 2010)</em> as well as <em>Rijkswaterstaat Technical Document: Guidelines for Nonlinear Finite Element Analysis of Concrete Structures (RTD 2010)</em>. These formulas are based on the uniaxial compressive cylinder strength.\n",
    "\n",
    "<!-- To avoid overestimating the cracking moment, tensile strength $f_t$ can be reduced using tensile reduction factor *ft_factor*. Tension strain at failure $\\varepsilon_{t2}$ needs to be defined by the user, taken as 0.001 by default. -->\n",
    "\n",
    "|Parameter|Formula|Units|Reference|\n",
    "|:-:|:-:|:-:|:-:|\n",
    "|Compressive cylinder strength |$$f_{c} = 0.85f_{c,cube}$$|MPa|NA|\n",
    "|Characteristic compressive cylinder strength |$$f_{ck}$$|MPa|NA|\n",
    "|Mean compressive strength |$$f_{cm} = f_{ck} + 8$$|MPa|MC 1990 Eq. 2.1-1|\n",
    "|Peak compressive strength|$$f_{c1}$$|MPa|NA|\n",
    "|Residual compressive strength|$$f_{c2} = f_{c1} \\cdot f_{c2,factor}$$|MPa|NA|\n",
    "|Tensile strength |$$f_t= 0.3f_{cm}^{2/3} \\leq C50$$ $$ f_t= 2.12ln(1+0.1f_{cm}) > C50$$|MPa|MC 2010 Eq. 5.1-3a|\n",
    "|Fracture energy|$$G_f = 73\\frac{ f_{cm}^{0.18}}{1000} $$|N/mm|MC 2010 Eq. 5.1-9|\n",
    "|Initial compressive modulus|$$E_{c0} = 21500\\cdot(f_{cm}/10)^{1/3}$$|MPa|MC 2010 Eq. 5.1-21|\n",
    "|Poisson's ratio|$$0.2$$|-|MC 2010 5.1.7.3|\n",
    "|Compressive fracture energy |$$G_{c} = 250G_{f}$$|N/mm|RTD 2010 p. 11|\n",
    "|Compressive strain at peak strength|$$\\varepsilon_{c1} = \\frac{5}{3}\\frac{f_{c1}}{E_0}$$|-|RTD 2010 p. 21|\n",
    "|Secant compressive modulus|$$E_{c1} =  \\frac{f_{c1}}{\\varepsilon_{c1}}$$|MPa|NA|\n",
    "|Initial tensile modulus|$$E_{t1} = E_{c0}$$|MPa|NA|\n",
    "|Compressive failure strain|$$\\varepsilon_{c2} = \\varepsilon_{c1} + \\frac{3}{2}\\frac{G_c}{hf_{c1}}$$|-|RTD 2010 p. 21|\n",
    "|Tensile strain at peak strength|$$\\varepsilon_{t1} = \\frac{f_t}{E_{t1}}$$|-|NA|\n",
    "|Tensile failure strain|$$\\varepsilon_{t2}=\\frac{G_{f}}{h_{eq}f_{t}}$$|-|RTD 2010 p. 19|\n",
    "|Initial compressive response factor|$$\\alpha = \\frac{E_{c0}-E_{c1}}{E_{c1}}$$|-|ADAPTIC manual|\n"
   ]
  },
  {
   "cell_type": "code",
   "execution_count": 1,
   "metadata": {},
   "outputs": [],
   "source": [
    "import sys\n",
    "sys.path.insert(1, '../libraries')\n",
    "import numpy as np\n",
    "import pandas as pd\n",
    "import utils\n",
    "import materials as mat"
   ]
  },
  {
   "cell_type": "markdown",
   "metadata": {},
   "source": [
    "Below properties for _con1_ material of concrete grade C50/60 are shown. Characteristic cylinder strength is assumed $f_{c1} = f_{ck} = 50 MPa$ and element length $h = 250 mm$."
   ]
  },
  {
   "cell_type": "code",
   "execution_count": 2,
   "metadata": {},
   "outputs": [
    {
     "data": {
      "text/html": [
       "<div>\n",
       "<style scoped>\n",
       "    .dataframe tbody tr th:only-of-type {\n",
       "        vertical-align: middle;\n",
       "    }\n",
       "\n",
       "    .dataframe tbody tr th {\n",
       "        vertical-align: top;\n",
       "    }\n",
       "\n",
       "    .dataframe thead th {\n",
       "        text-align: right;\n",
       "    }\n",
       "</style>\n",
       "<table border=\"1\" class=\"dataframe\">\n",
       "  <thead>\n",
       "    <tr style=\"text-align: right;\">\n",
       "      <th></th>\n",
       "      <th>ID</th>\n",
       "      <th>$$h[mm]$$</th>\n",
       "      <th>$$f_{c1}[MPa]$$</th>\n",
       "      <th>$$f_{c2}[MPa]$$</th>\n",
       "      <th>$$f_{t}[MPa]$$</th>\n",
       "      <th>$$E_{c0}[MPa]$$</th>\n",
       "      <th>$$E_{c1}[MPa]$$</th>\n",
       "      <th>$$E_{c2}[MPa]$$</th>\n",
       "      <th>$$E_{t1}[MPa]$$</th>\n",
       "      <th>$$E_{t2}[MPa]$$</th>\n",
       "      <th>$$G_{f}[N/mm]$$</th>\n",
       "      <th>$$G_{c}[N/mm]$$</th>\n",
       "      <th>$$e_{c1}$$</th>\n",
       "      <th>$$e_{c2}$$</th>\n",
       "      <th>$$e_{t1}$$</th>\n",
       "      <th>$$e_{t2}$$</th>\n",
       "      <th>$$alpha_{c}$$</th>\n",
       "    </tr>\n",
       "  </thead>\n",
       "  <tbody>\n",
       "    <tr>\n",
       "      <th>C50/60</th>\n",
       "      <td>C50/60</td>\n",
       "      <td>250</td>\n",
       "      <td>50</td>\n",
       "      <td>2.5</td>\n",
       "      <td>4.49510579008738</td>\n",
       "      <td>38629</td>\n",
       "      <td>23177.399999999998</td>\n",
       "      <td>-35375.792473868045</td>\n",
       "      <td>38629</td>\n",
       "      <td>-19527.330254932956</td>\n",
       "      <td>0.1516142070771739</td>\n",
       "      <td>37.90355176929348</td>\n",
       "      <td>0.0021572738961229475</td>\n",
       "      <td>0.0035</td>\n",
       "      <td>0.00011636609257519946</td>\n",
       "      <td>0.00034656170720366797</td>\n",
       "      <td>-0.6666666666666669</td>\n",
       "    </tr>\n",
       "  </tbody>\n",
       "</table>\n",
       "</div>"
      ],
      "text/plain": [
       "            ID $$h[mm]$$ $$f_{c1}[MPa]$$ $$f_{c2}[MPa]$$    $$f_{t}[MPa]$$  \\\n",
       "C50/60  C50/60       250              50             2.5  4.49510579008738   \n",
       "\n",
       "       $$E_{c0}[MPa]$$     $$E_{c1}[MPa]$$      $$E_{c2}[MPa]$$  \\\n",
       "C50/60           38629  23177.399999999998  -35375.792473868045   \n",
       "\n",
       "       $$E_{t1}[MPa]$$      $$E_{t2}[MPa]$$     $$G_{f}[N/mm]$$  \\\n",
       "C50/60           38629  -19527.330254932956  0.1516142070771739   \n",
       "\n",
       "          $$G_{c}[N/mm]$$             $$e_{c1}$$ $$e_{c2}$$  \\\n",
       "C50/60  37.90355176929348  0.0021572738961229475     0.0035   \n",
       "\n",
       "                    $$e_{t1}$$              $$e_{t2}$$        $$alpha_{c}$$  \n",
       "C50/60  0.00011636609257519946  0.00034656170720366797  -0.6666666666666669  "
      ]
     },
     "execution_count": 2,
     "metadata": {},
     "output_type": "execute_result"
    }
   ],
   "source": [
    "# Sample properties for mat_con11 instance\n",
    "sample_con1 = mat.con1('C50/60', fc1 = 50, fcm = 50+8, length = 250)\n",
    "sample_con1.data_frame()"
   ]
  },
  {
   "cell_type": "markdown",
   "metadata": {},
   "source": [
    "## stl1\n",
    "\n",
    "```python\n",
    "materials.stl1(ID, E1, fy, fu, epsilon_u)\n",
    "```\n",
    "\n",
    "|Parameter|Type|Description|\n",
    "|:-:|:-:|:-:|\n",
    "|ID|str|name of the material|\n",
    "|E1|float|initial elastic stiffness|\n",
    "|fy|float|yield strength|\n",
    "|fu|float|ultimate strength|\n",
    "|epsilon_u|float|ultimate strain|\n",
    "\n",
    "_Stl1_ is a bilinear elasto-plastic model with kinematic strain hardening, used for a uniaxial modelling of mild steel. Although **ADAPTIC** in the current revision does not require ultimate strains, $\\varepsilon_{u}$ needs to be defined for this class to be used in post-processing.\n",
    "\n",
    "<img src=\"../assets/images/materials.stl1.png\" width=\"500\" />"
   ]
  },
  {
   "cell_type": "markdown",
   "metadata": {},
   "source": [
    "Below properties for _stl1_ material of steel S355 are shown."
   ]
  },
  {
   "cell_type": "code",
   "execution_count": 3,
   "metadata": {},
   "outputs": [
    {
     "data": {
      "text/html": [
       "<div>\n",
       "<style scoped>\n",
       "    .dataframe tbody tr th:only-of-type {\n",
       "        vertical-align: middle;\n",
       "    }\n",
       "\n",
       "    .dataframe tbody tr th {\n",
       "        vertical-align: top;\n",
       "    }\n",
       "\n",
       "    .dataframe thead th {\n",
       "        text-align: right;\n",
       "    }\n",
       "</style>\n",
       "<table border=\"1\" class=\"dataframe\">\n",
       "  <thead>\n",
       "    <tr style=\"text-align: right;\">\n",
       "      <th></th>\n",
       "      <th>ID</th>\n",
       "      <th>$$E_{1}[MPa]$$</th>\n",
       "      <th>$$E_{2}[MPa]$$</th>\n",
       "      <th>$$f_{y}[MPa]$$</th>\n",
       "      <th>$$f_{u}[MPa]$$</th>\n",
       "      <th>$$e_{y}$$</th>\n",
       "      <th>$$e_{u}$$</th>\n",
       "      <th>$$mu$$</th>\n",
       "    </tr>\n",
       "  </thead>\n",
       "  <tbody>\n",
       "    <tr>\n",
       "      <th>S355</th>\n",
       "      <td>S355</td>\n",
       "      <td>205000</td>\n",
       "      <td>1373.3</td>\n",
       "      <td>355</td>\n",
       "      <td>490</td>\n",
       "      <td>0.0017</td>\n",
       "      <td>0.1</td>\n",
       "      <td>0.006699</td>\n",
       "    </tr>\n",
       "  </tbody>\n",
       "</table>\n",
       "</div>"
      ],
      "text/plain": [
       "        ID $$E_{1}[MPa]$$ $$E_{2}[MPa]$$ $$f_{y}[MPa]$$ $$f_{u}[MPa]$$  \\\n",
       "S355  S355         205000         1373.3            355            490   \n",
       "\n",
       "     $$e_{y}$$ $$e_{u}$$    $$mu$$  \n",
       "S355    0.0017       0.1  0.006699  "
      ]
     },
     "execution_count": 3,
     "metadata": {},
     "output_type": "execute_result"
    }
   ],
   "source": [
    "# Sample properties for mat_stl1 instance\n",
    "sample_stl1 = mat.stl1('S355', 205000, 355, 490, 0.1)\n",
    "sample_stl1.data_frame()"
   ]
  }
 ],
 "metadata": {
  "kernelspec": {
   "display_name": "Python 3",
   "language": "python",
   "name": "python3"
  },
  "language_info": {
   "codemirror_mode": {
    "name": "ipython",
    "version": 3
   },
   "file_extension": ".py",
   "mimetype": "text/x-python",
   "name": "python",
   "nbconvert_exporter": "python",
   "pygments_lexer": "ipython3",
   "version": "3.7.6"
  }
 },
 "nbformat": 4,
 "nbformat_minor": 4
}
