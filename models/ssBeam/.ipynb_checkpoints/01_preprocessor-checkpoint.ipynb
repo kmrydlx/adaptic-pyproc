{
 "cells": [
  {
   "cell_type": "markdown",
   "metadata": {},
   "source": [
    "# ADAPTIC preprocessor "
   ]
  },
  {
   "cell_type": "code",
   "execution_count": 3,
   "metadata": {},
   "outputs": [],
   "source": [
    "import numpy as np\n",
    "import pandas as pd\n",
    "from datetime import datetime as day\n",
    "# from math import log10, floor\n",
    "import matplotlib.pyplot as plt\n",
    "import sys\n",
    "sys.path.insert(1, '../../adaptic-pyproc/libraries')\n",
    "import utils\n",
    "import materials as mat\n",
    "import sections as sect"
   ]
  },
  {
   "cell_type": "code",
   "execution_count": 1,
   "metadata": {},
   "outputs": [],
   "source": [
    "project_name = 'ssBeam'\n",
    "\n",
    "analysis_2d = True # 3d analysis if False\n",
    "dynamic = True\n",
    "loadAcceleration=True\n",
    "softening = False"
   ]
  },
  {
   "cell_type": "code",
   "execution_count": 4,
   "metadata": {},
   "outputs": [],
   "source": [
    "save_file = True # generates *.dat file\n",
    "save_pickle = True # generates *.pkl file"
   ]
  },
  {
   "cell_type": "code",
   "execution_count": 5,
   "metadata": {},
   "outputs": [],
   "source": [
    "# S4\n",
    "\n",
    "con_sect_b = 150\n",
    "con_sect_h=250\n",
    "Sect1_n_bars_B = 2\n",
    "Sect1_dia_bar_B = 13\n",
    "Sect1_n_bars_T = 3\n",
    "Sect1_dia_bar_T = 13\n",
    "Sect2_n_bars_B = 3#2\n",
    "Sect2_dia_bar_B = 13\n",
    "Sect2_n_bars_T = 2\n",
    "Sect2_dia_bar_T = 13\n",
    "height_B = -(con_sect_h/2-(20+5))\n",
    "height_T = con_sect_h/2-(20+5)\n",
    "height_B_fromBot = con_sect_h-(20+5)\n",
    "height_T_fromBot = (20+5)\n",
    "\n",
    "sect_dist = ([\n",
    "    ['gsectB1',-200,8000]\n",
    "])"
   ]
  },
  {
   "cell_type": "markdown",
   "metadata": {},
   "source": [
    "## Initialisation\n",
    "\n",
    "Import necessary libraries, define functions and intialise `all_lines` variable to store each line of text to be printed in _*.dat_ file."
   ]
  },
  {
   "cell_type": "code",
   "execution_count": 6,
   "metadata": {},
   "outputs": [],
   "source": [
    "rigid = 'rigid'\n",
    "\n",
    "# Functions\n",
    "def add(line): return np.vstack((all_lines, line))\n",
    "\n",
    "def hash_tag(lst): return ['#']*len(lst)\n",
    "\n",
    "def obj_loc(obj_lst, val, att):\n",
    "    for i in range(len(obj_lst)):\n",
    "        if getattr(obj_lst[i], att) == val:\n",
    "            return obj_lst[i]\n",
    "    print('No object has an attribute {0} with a value {1}'.format(att, val))\n",
    "\n",
    "# Init\n",
    "all_lines = np.array(\"# Init\")\n",
    "global_print = True # prevent printing and plotting from other modules\n",
    "\n",
    "# Write file info\n",
    "line = utils.str_joint([\"#\",project_name,str(day.today())])\n",
    "all_lines = add(line)\n",
    "if analysis_2d and not dynamic:\n",
    "    all_lines = add(\"analysis 2d statics\")\n",
    "elif not dynamic:\n",
    "    all_lines = add(\"analysis 3d statics\")\n",
    "elif dynamic and analysis_2d:\n",
    "    all_lines = add(\"analysis 2d dynamics\")"
   ]
  },
  {
   "cell_type": "markdown",
   "metadata": {},
   "source": [
    "## Define materials\n",
    "\n",
    "Refer to _materials.ipynb_ to learn how the material properties were defined for the D-Frame system."
   ]
  },
  {
   "cell_type": "code",
   "execution_count": 60,
   "metadata": {},
   "outputs": [
    {
     "name": "stderr",
     "output_type": "stream",
     "text": [
      "../../adaptic-pyproc/libraries\\materials.py:483: FutureWarning: elementwise comparison failed; returning scalar instead, but in the future will perform elementwise comparison\n",
      "  if strain=='':strain=np.arange(1.05*np.absolute(self.strnc1),1.05*np.absolute(self.strnt1),0.00001)\n"
     ]
    },
    {
     "data": {
      "image/png": "[encoded data removed]",
      "text/plain": [
       "<Figure size 432x288 with 1 Axes>"
      ]
     },
     "metadata": {
      "needs_background": "light"
     },
     "output_type": "display_data"
    },
    {
     "name": "stdout",
     "output_type": "stream",
     "text": [
      "reinf stl1 1.85E+05 494 0.00503 0.109 5\n"
     ]
    },
    {
     "data": {
      "text/html": [
       "<div>\n",
       "<style scoped>\n",
       "    .dataframe tbody tr th:only-of-type {\n",
       "        vertical-align: middle;\n",
       "    }\n",
       "\n",
       "    .dataframe tbody tr th {\n",
       "        vertical-align: top;\n",
       "    }\n",
       "\n",
       "    .dataframe thead th {\n",
       "        text-align: right;\n",
       "    }\n",
       "</style>\n",
       "<table border=\"1\" class=\"dataframe\">\n",
       "  <thead>\n",
       "    <tr style=\"text-align: right;\">\n",
       "      <th></th>\n",
       "      <th>ID</th>\n",
       "      <th>$$h[mm]$$</th>\n",
       "      <th>$$f_{c1}[MPa]$$</th>\n",
       "      <th>$$f_{c2}[MPa]$$</th>\n",
       "      <th>$$f_{t}[MPa]$$</th>\n",
       "      <th>$$E_{c0}[MPa]$$</th>\n",
       "      <th>$$E_{c1}[MPa]$$</th>\n",
       "      <th>$$E_{c2}[MPa]$$</th>\n",
       "      <th>$$E_{t1}[MPa]$$</th>\n",
       "      <th>$$E_{t2}[MPa]$$</th>\n",
       "      <th>$$G_{f}[N/mm]$$</th>\n",
       "      <th>$$G_{c}[N/mm]$$</th>\n",
       "      <th>$$e_{c1}$$</th>\n",
       "      <th>$$e_{c2}$$</th>\n",
       "      <th>$$e_{t1}$$</th>\n",
       "      <th>$$e_{t2}$$</th>\n",
       "      <th>$$alpha_{c}$$</th>\n",
       "    </tr>\n",
       "  </thead>\n",
       "  <tbody>\n",
       "    <tr>\n",
       "      <th>concr1</th>\n",
       "      <td>concr1</td>\n",
       "      <td>250</td>\n",
       "      <td>16</td>\n",
       "      <td>0.8</td>\n",
       "      <td>0.1</td>\n",
       "      <td>28800</td>\n",
       "      <td>17200</td>\n",
       "      <td>-10.0</td>\n",
       "      <td>28800</td>\n",
       "      <td>-100</td>\n",
       "      <td>0.129</td>\n",
       "      <td>32.2</td>\n",
       "      <td>0.00093</td>\n",
       "      <td>1.52093</td>\n",
       "      <td>0.0</td>\n",
       "      <td>0.001</td>\n",
       "      <td>0.67</td>\n",
       "    </tr>\n",
       "  </tbody>\n",
       "</table>\n",
       "</div>"
      ],
      "text/plain": [
       "            ID $$h[mm]$$ $$f_{c1}[MPa]$$ $$f_{c2}[MPa]$$ $$f_{t}[MPa]$$  \\\n",
       "concr1  concr1       250              16             0.8            0.1   \n",
       "\n",
       "       $$E_{c0}[MPa]$$ $$E_{c1}[MPa]$$ $$E_{c2}[MPa]$$ $$E_{t1}[MPa]$$  \\\n",
       "concr1           28800           17200           -10.0           28800   \n",
       "\n",
       "       $$E_{t2}[MPa]$$ $$G_{f}[N/mm]$$ $$G_{c}[N/mm]$$ $$e_{c1}$$ $$e_{c2}$$  \\\n",
       "concr1            -100           0.129            32.2    0.00093    1.52093   \n",
       "\n",
       "       $$e_{t1}$$ $$e_{t2}$$ $$alpha_{c}$$  \n",
       "concr1        0.0      0.001          0.67  "
      ]
     },
     "execution_count": 60,
     "metadata": {},
     "output_type": "execute_result"
    }
   ],
   "source": [
    "if C16:\n",
    "    concr1 = mat.con1('concr1', 16, 250, epsilon_2t = 0.001, fc2_factor = 0.05, ft_factor = 0.1/2.5, characteristic = True,Ec2=-1E+1, Et2='')\n",
    "    concr2 = mat.con1('concr2', 35, 250,epsilon_2t = 0.001)\n",
    "else:\n",
    "    concr1 = mat.con1('concr1', 35, 250,epsilon_2t = 0.001)\n",
    "    concr2 = mat.con1('concr2', 16, 250, epsilon_2t = 0.001, fc2_factor = 0.05, ft_factor = 0.1/2.5, characteristic = True,Ec2=-1E+1, Et2='')\n",
    "reinf = mat.stl1('reinf', 185000, 494, 593, 0.109,softening=softening,E3=5)\n",
    "# concr2 = mat.con1('concr2', 35, 250,epsilon_2t = 0.001)\n",
    "# concr3 = mat.con1('concr2', 35, 250) #epsilon_2t = 0.001\n",
    "# concr4 = mat.con1('concr3', 35, 50) #epsilon_2t = 0.001\n",
    "\n",
    "ec1,fc1,ec2,fc2,et1,ft,et2=concr1.adaptic_print(rawNr=True)[2:]\n",
    "alphac=-concr1.alphaC\n",
    "alphat=-1\n",
    "con1=mat.stmdl2.from_ADAPTIC(ec1,fc1,ec2,fc2,et1,ft,et2,alphac,alphat)\n",
    "strain=np.arange(1.1*con1.strnc1,1.1*con1.strnt1,0.00001)\n",
    "con1.plot(strain=strain,title='',retn='stress',legend=False,pseto=0,crkso=0)\n",
    "print(reinf.adaptic_print())\n",
    "concr1.data_frame()"
   ]
  },
  {
   "cell_type": "code",
   "execution_count": 8,
   "metadata": {},
   "outputs": [],
   "source": [
    "# strain=np.arange(0,1.1*con1.strnt1,0.000001)\n",
    "# con1.plot(strain=strain,title='concr1 - find εt2 using fracture energy area',retn='stress',legend=False,pseto=0,crkso=0) #'Find εt2 using fracture energy area'\n",
    "# concr3.data_frame()"
   ]
  },
  {
   "cell_type": "code",
   "execution_count": 9,
   "metadata": {},
   "outputs": [
    {
     "data": {
      "image/png": "[encoded data removed]",
      "text/plain": [
       "<Figure size 432x288 with 1 Axes>"
      ]
     },
     "metadata": {
      "needs_background": "light"
     },
     "output_type": "display_data"
    }
   ],
   "source": [
    "reinf = mat.stl1('reinf', 185000, 494, 593, 0.109)\n",
    "material_lst = [concr1,concr2,reinf]\n",
    "if khalid:\n",
    "    bond_Sect = mat.bond('bond',c=7,f_cm=concr1.fc1,ft=3.7,L=mesh_size,dia=Sect1_dia_bar_B,n_bars=Sect1_n_bars_B) # ft=concr1.ft\n",
    "    bond_Sect.curve(stop=9,title='bond stress–slip relationship')\n",
    "    \n",
    "    bond_Sect.slip2tau(0.2)\n",
    "    bond_Sect.dataframe()\n",
    "    material_lst.append(bond_Sect)\n",
    "# if khalid:\n",
    "#     bond_Sect = mat.bond(c=7,f_cm=concr1.fc1,L=mesh_size,dia=Sect1_dia_bar_B,n_bars=Sect1_n_bars_B)\n",
    "#     #bond_Sect.dataframe()\n",
    "#     s_e=0.2\n",
    "#     # se    s1    s2   s3     te   t1     t3\n",
    "#     material = [['bond','bond', s_e, bond_Sect.s_1, bond_Sect.s_2, bond_Sect.s_3,bond_Sect.slip2tau(s_e),bond_Sect.slip2tau(bond_Sect.s_1),bond_Sect.slip2tau(bond_Sect.s_3)]]\n",
    "\n",
    "# Group al meterials in material_lst\n"
   ]
  },
  {
   "cell_type": "markdown",
   "metadata": {},
   "source": [
    "## Define sections\n",
    "\n",
    "Refer to _sections.ipynb_ to learn how the material properties are defined and calulcated to be incorporated in __ADAPTIC__.\n",
    "\n",
    "### rcts sections\n"
   ]
  },
  {
   "cell_type": "code",
   "execution_count": 10,
   "metadata": {},
   "outputs": [],
   "source": [
    "section_rcts_lst = []\n",
    "\n",
    "if not khalid:\n",
    "    reinf_sect1 = [[Sect1_n_bars_B, Sect1_dia_bar_B,height_B_fromBot],[Sect1_n_bars_T, Sect1_dia_bar_T,height_T_fromBot]]\n",
    "    reinf_sect2 = [[Sect2_n_bars_B, Sect2_dia_bar_B,height_B_fromBot],[Sect2_n_bars_T, Sect2_dia_bar_T,height_T_fromBot]]\n",
    "    if separate: # for debonding\n",
    "        debond_sections=[[['sectB1',reinf_sect1,'gSect1_B','gSect1_T',1],['sectB2',reinf_sect2,'gSect2_B','gSect2_T',2]]] \n",
    "        # [0] - sets of sections, [1] - continuous reinf with different sections, [2] bot[0,2], top[1,3]\n",
    "        reinf_sect1 = [[1, 1,height_B_fromBot],[1, 1,height_T_fromBot]]\n",
    "        reinf_sect2 = [[1, 1,height_B_fromBot],[1, 1,height_T_fromBot]]\n",
    "    # (400-2*(20+6)-13) = 56\n",
    "    # cover = 20+6+13/2 = 32.5\n",
    "    reinf_sect3 = [[4,13,32.5],[4,13,32.5+112],[4,13,32.5+2*112],[4,13,32.5+3*112]]\n",
    "    reinf_sect3 = pd.DataFrame(reinf_sect3).sort_values(by=[2],ascending=False).values.tolist()\n",
    "\n",
    "    # Beam Section 1\n",
    "    beam_section1 = sect.rcts('sectB1', 'reinf', 'concr1', 'concr1', con_sect_h/2, con_sect_h/2, con_sect_b+1, con_sect_b, 20, 6, reinf_sect1)\n",
    "\n",
    "    for i in [beam_section1]:\n",
    "        utils.setattrs(i, ID = i.ID, reinf_mat = reinf.ID, unconf_mat = concr1.ID, conf_mat = concr1.ID)\n",
    "        section_rcts_lst.append(i)\n",
    "\n",
    "#section_rcts_lst[0].plotting()"
   ]
  },
  {
   "cell_type": "markdown",
   "metadata": {},
   "source": [
    "### rccs sections"
   ]
  },
  {
   "cell_type": "code",
   "execution_count": 11,
   "metadata": {},
   "outputs": [],
   "source": [
    "section_rccs_lst=[]"
   ]
  },
  {
   "cell_type": "markdown",
   "metadata": {},
   "source": [
    "### isec sections"
   ]
  },
  {
   "cell_type": "code",
   "execution_count": 12,
   "metadata": {},
   "outputs": [],
   "source": [
    "section_isec_lst=[]  "
   ]
  },
  {
   "cell_type": "markdown",
   "metadata": {},
   "source": [
    "### rss sections"
   ]
  },
  {
   "cell_type": "code",
   "execution_count": 13,
   "metadata": {},
   "outputs": [],
   "source": [
    "def bar_converter(n_bars,dia_bar,mat,plot=False,Length=100): # convert the circular section of the reinforcement to equivalent rectangular section\n",
    "    tie_h = (dia_bar**2/4*np.pi)**0.5\n",
    "    #plt_h = (3*(dia_bar/2)**4*np.pi/n_bars)**(1/4) # to keep the same 2nd MoA\n",
    "    tie_b = n_bars*tie_h\n",
    "    return tie_h, tie_b"
   ]
  },
  {
   "cell_type": "code",
   "execution_count": 14,
   "metadata": {},
   "outputs": [],
   "source": [
    "section_rss_lst = []\n",
    "if separate or khalid:\n",
    "    Sect1_barT_h, Sect1_barT_b = bar_converter(Sect1_n_bars_T,Sect1_dia_bar_T,reinf,plot=False)\n",
    "    Sect1_barB_h, Sect1_barB_b = bar_converter(Sect1_n_bars_B,Sect1_dia_bar_B,reinf,plot=False)\n",
    "    Sect2_barT_h, Sect2_barT_b = bar_converter(Sect2_n_bars_T,Sect2_dia_bar_T,reinf,plot=False)\n",
    "    Sect2_barB_h, Sect2_barB_b = bar_converter(Sect2_n_bars_B,Sect2_dia_bar_B,reinf,plot=False)\n",
    "    \n",
    "    if separate:\n",
    "        section_rss_lst.append(sect.rss('Sect1_T', reinf.ID, Sect1_barT_b, Sect1_barT_h))\n",
    "        section_rss_lst.append(sect.rss('Sect1_B', reinf.ID, Sect1_barB_b, Sect1_barB_h))\n",
    "        section_rss_lst.append(sect.rss('Sect2_T', reinf.ID, Sect2_barT_b, Sect2_barT_h))\n",
    "        section_rss_lst.append(sect.rss('Sect2_B', reinf.ID, Sect2_barB_b, Sect2_barB_h))\n",
    "    elif khalid:\n",
    "        section_rss_lst.append(sect.rss('SectB1', concr1.ID, con_sect_b, con_sect_h))  "
   ]
  },
  {
   "cell_type": "code",
   "execution_count": 15,
   "metadata": {},
   "outputs": [],
   "source": [
    "#group all sections as section_lst\n",
    "section_lst = [section_rcts_lst,section_rss_lst,section_isec_lst]"
   ]
  },
  {
   "cell_type": "markdown",
   "metadata": {},
   "source": [
    "## Groups"
   ]
  },
  {
   "cell_type": "code",
   "execution_count": 16,
   "metadata": {},
   "outputs": [],
   "source": [
    "sections_lst = [section_rcts_lst,section_rss_lst]\n",
    "sec_flat = [i for sub_l in sections_lst for i in sub_l]\n",
    "sec_names = np.array([i.ID for sub_l in sections_lst for i in sub_l])\n",
    "monitor_pts = 200"
   ]
  },
  {
   "cell_type": "markdown",
   "metadata": {},
   "source": [
    "### cbp2"
   ]
  },
  {
   "cell_type": "code",
   "execution_count": 17,
   "metadata": {},
   "outputs": [],
   "source": [
    "if not khalid:\n",
    "    cbp_lst = [['g'+i,i,monitor_pts] for i in sec_names]\n",
    "else: cbp_lst=[]"
   ]
  },
  {
   "cell_type": "markdown",
   "metadata": {},
   "source": [
    "### cbm2"
   ]
  },
  {
   "cell_type": "code",
   "execution_count": 18,
   "metadata": {},
   "outputs": [],
   "source": [
    "if dynamic: # and not khalid\n",
    "    #[[i.ID, i.area] for i in sec_flat]\n",
    "    cbm_lst = [['gmasCon',2400 * 10**-12 * con_sect_b*con_sect_h]] #'mm/s^2' section_rcts_lst[0].area\n",
    "    # mass/length = density (X) * area (A) = X kg/m^3 * A = X*10^-9 kg/mm^3 * A  = X*10^-12 (N*s^2/mm)/mm^3 * A\n",
    "else:cbm_lst=[]"
   ]
  },
  {
   "cell_type": "markdown",
   "metadata": {},
   "source": [
    "### cnc2 and bnd2"
   ]
  },
  {
   "cell_type": "code",
   "execution_count": 19,
   "metadata": {},
   "outputs": [],
   "source": [
    "if khalid:\n",
    "    con_density = 2400 * 10**-12\n",
    "    stl_density = 8050 * 10**-12\n",
    "    cnc_lst = [['g'+i,i,monitor_pts, 0.25, con_density] for i in sec_names]\n",
    "    # density = 1 kg/m^3 = 10^-12 (N*s^2/mm)/mm^3\n",
    "    # reverse height as the elements are reversed!\n",
    "    bnd_lst = [['gbndB1T','reinf','bond', Sect1_n_bars_T*Sect1_dia_bar_T**2*np.pi/4, Sect1_n_bars_T*Sect1_dia_bar_T*np.pi,-height_T,stl_density],\n",
    "               ['gbndB1B','reinf','bond', Sect1_n_bars_B*Sect1_dia_bar_B**2*np.pi/4, Sect1_n_bars_B*Sect1_dia_bar_B*np.pi,-height_B,stl_density],\n",
    "               ['gbndB2T','reinf','bond', Sect2_n_bars_T*Sect2_dia_bar_T**2*np.pi/4, Sect2_n_bars_T*Sect2_dia_bar_T*np.pi,-height_T,stl_density],\n",
    "               ['gbndB2B','reinf','bond', Sect2_n_bars_B*Sect2_dia_bar_B**2*np.pi/4, Sect2_n_bars_B*Sect2_dia_bar_B*np.pi,-height_B,stl_density]]\n",
    "else: cnc_lst,bnd_lst,elm_cnc,elm_bnd=[],[],pd.DataFrame([]),pd.DataFrame([])"
   ]
  },
  {
   "cell_type": "markdown",
   "metadata": {},
   "source": [
    "### lnk2"
   ]
  },
  {
   "cell_type": "code",
   "execution_count": 20,
   "metadata": {},
   "outputs": [],
   "source": [
    "lnk_lst = []\n",
    "\n",
    "x = rigid\n",
    "y = rigid\n",
    "rz = rigid\n",
    "lnk_lst.append(utils.param2adap('glnkRig', [x, y, rz]))"
   ]
  },
  {
   "cell_type": "markdown",
   "metadata": {},
   "source": [
    "### sprd"
   ]
  },
  {
   "cell_type": "code",
   "execution_count": 21,
   "metadata": {},
   "outputs": [],
   "source": [
    "if spreader and dynamic: \n",
    "    sprd_lst = [['gsprd','y',3,1,1,1]]\n",
    "    elm_sprd=pd.DataFrame([])\n",
    "else: sprd_lst,elm_sprd=[],pd.DataFrame([])"
   ]
  },
  {
   "cell_type": "markdown",
   "metadata": {},
   "source": [
    "### jel2"
   ]
  },
  {
   "cell_type": "code",
   "execution_count": 22,
   "metadata": {},
   "outputs": [],
   "source": [
    "# LB,RB,LT,RT\n",
    "if separate and debond:\n",
    "    bond_astr=[]\n",
    "    for j in range(len(debond_sections)):\n",
    "        bond_astr_temp=[]\n",
    "        for idx_deb, val_deb in enumerate(debond_sections[j]):\n",
    "            bond_astr_temp_sect=[]\n",
    "            for i in range(len(['bot', 'top'])):\n",
    "                bond_Sect = mat.bond(c=7,f_cm=concr1.fc1,L=mesh_size,dia=val_deb[1][i][1],n_bars=val_deb[1][i][0])\n",
    "                #bond_Sect.curve(stop=9,title='bond stress–slip relationship')\n",
    "                #bond_Sect.curve_force(stop=9,title='bond force–slip relationship')\n",
    "                f1,f2,f3,disp1,disp2,disp3=bond_Sect.astr_curve()\n",
    "                bond_astr_temp_sect.append(utils.create_ASTR(np.array([[disp1, 1E+9],[disp2, 1E+8],[disp3, 1E+8]]),negative=np.array([[-disp1, -f1],[-disp2, -f2],[-disp3, -f3]])))\n",
    "                bond_astr_temp_sect.append(utils.create_ASTR(np.array([[disp1, f1],[disp2, f2],[disp3, f3]]),negative=np.array([[-disp1, -f1],[-disp2, -f2],[-disp3, -f3]])))\n",
    "                bond_astr_temp_sect.append(utils.create_ASTR(np.array([[disp1, f1],[disp2, f2],[disp3, f3]]),negative=np.array([[-disp1, -1E+9],[-disp2, -1E+8],[-disp3, -1E+8]])))\n",
    "                #utils.ASTR_plot(bond_astr, disp3, -disp3, 'bond astr curve','displacement [mm]', 'force [kN]', scaleX = 1, scaleY = 1E-3)\n",
    "            bond_astr_temp.append(bond_astr_temp_sect)\n",
    "        bond_astr.append(bond_astr_temp)"
   ]
  },
  {
   "cell_type": "code",
   "execution_count": 23,
   "metadata": {},
   "outputs": [],
   "source": [
    "# joint jel elements\n",
    "jel_lst = []\n",
    "\n",
    "x = rigid\n",
    "y = rigid \n",
    "rz = ['lin', 0.1] \n",
    "jel_lst.append(utils.param2adap('gjelSup1', [x, y, rz]))\n",
    "x = ['lin', 0.1] \n",
    "y = rigid \n",
    "rz = ['lin', 0.1] \n",
    "jel_lst.append(utils.param2adap('gjelSup2', [x, y, rz]))\n",
    "x = rigid\n",
    "y = rigid\n",
    "rz = ['lin', 0.1]\n",
    "jel_lst.append(utils.param2adap('gjelPin', [x, y, rz]))\n",
    "x = rigid\n",
    "y = rigid\n",
    "rz = rigid\n",
    "jel_lst.append(utils.param2adap('gjelRig', [x, y, rz]))\n",
    "# if separate and debond:\n",
    "#     for j in range(len(debond_sections)):\n",
    "#         for i in range(len(debond_sections[j])):\n",
    "\n",
    "#             x = bond_astr[j][i][1]\n",
    "#             y = rigid\n",
    "#             rz = rigid\n",
    "#             jel_lst.append(utils.param2adap('gjel'+str(j+1)+'BM'+str(debond_sections[j][i][4]), [x, y, rz]))\n",
    "            \n",
    "#             x = bond_astr[j][i][4]\n",
    "#             y = rigid\n",
    "#             rz = rigid\n",
    "#             jel_lst.append(utils.param2adap('gjel'+str(j+1)+'TM'+str(debond_sections[j][i][4]), [x, y, rz]))"
   ]
  },
  {
   "cell_type": "code",
   "execution_count": 24,
   "metadata": {},
   "outputs": [],
   "source": [
    "#group all section groups as group_lst\n",
    "group_lst = [cbp_lst,lnk_lst,jel_lst,cbm_lst,cnc_lst,bnd_lst,sprd_lst]"
   ]
  },
  {
   "cell_type": "markdown",
   "metadata": {},
   "source": [
    "## Structural nodes\n",
    "\n",
    "### Beam nodes"
   ]
  },
  {
   "cell_type": "code",
   "execution_count": 25,
   "metadata": {},
   "outputs": [],
   "source": [
    "def x_make(start,stop,size): return [[start+size*i] for i in range(int((stop-start)/size)+1)]\n",
    "length=3000\n",
    "x_coord=x_make(0,length,mesh_size)\n",
    "\n",
    "start_ID=1\n",
    "nodes_beam=np.hstack((x_coord,[[0,'#'] for i in x_coord]))\n",
    "nodes_beam=pd.DataFrame(nodes_beam,columns = ['x','y','#'])\n",
    "nodes_beam[\"x\"] = pd.to_numeric(nodes_beam[\"x\"])\n",
    "\n",
    "Name = utils.name_gen(\"\",nodes_beam, start_ID = start_ID)\n",
    "nodes_beam.insert(0, \"name\", Name, True)\n",
    "Name = utils.name_gen(\"node \",nodes_beam, start_ID = start_ID)\n",
    "nodes_beam.insert(4, \"ID\", Name, True)\n",
    "if spreader and dynamic: \n",
    "    nodes_beam.iloc[utils.df_index(nodes_beam,int(length/2),'x'),nodes_beam.columns.get_loc('ID')]='slave node 1'\n",
    "    nodes_beam.iloc[utils.df_index(nodes_beam,int(length*1/4),'x'),nodes_beam.columns.get_loc('ID')]='slave node 2'\n",
    "    nodes_beam.iloc[utils.df_index(nodes_beam,int(length*3/4),'x'),nodes_beam.columns.get_loc('ID')]='slave node 3'\n",
    "    load_node=nodes_beam.iloc[[utils.df_index(nodes_beam,'slave node 1','ID')]].copy()\n",
    "    load_node['ID']='load'\n",
    "    load_node['name']=int(nodes_beam.iloc[-1]['name'])+1\n",
    "    nodes = pd.concat([nodes_beam, load_node],ignore_index=True)\n",
    "    sprd_ID=['load','slave node 1','slave node 2','slave node 3']\n",
    "    sprd_name=[utils.df_value(nodes,i,'ID','name') for i in sprd_ID]\n",
    "else: \n",
    "    nodes_beam.iloc[utils.df_index(nodes_beam,int(length/2),'x'),nodes_beam.columns.get_loc('ID')]='load'\n",
    "    nodes=nodes_beam"
   ]
  },
  {
   "cell_type": "markdown",
   "metadata": {},
   "source": [
    "### Column & support nodes"
   ]
  },
  {
   "cell_type": "code",
   "execution_count": 26,
   "metadata": {},
   "outputs": [],
   "source": [
    "offset=50\n",
    "nodes_support=[[-offset,-0,'#','support node 1'],\n",
    "              [length+offset,-0,'#','support node 2']]\n",
    "nodes_support=pd.DataFrame(nodes_support,columns = ['x','y','#','ID'])  \n",
    "Name = utils.name_gen(\"\",nodes_support, start_ID = 301)\n",
    "nodes_support.insert(0, \"name\", Name, True)\n",
    "nodes = pd.concat([nodes,nodes_support,],ignore_index=True)"
   ]
  },
  {
   "cell_type": "markdown",
   "metadata": {},
   "source": [
    "## Non-structural nodes"
   ]
  },
  {
   "cell_type": "code",
   "execution_count": 27,
   "metadata": {},
   "outputs": [
    {
     "data": {
      "text/html": [
       "<div>\n",
       "<style scoped>\n",
       "    .dataframe tbody tr th:only-of-type {\n",
       "        vertical-align: middle;\n",
       "    }\n",
       "\n",
       "    .dataframe tbody tr th {\n",
       "        vertical-align: top;\n",
       "    }\n",
       "\n",
       "    .dataframe thead th {\n",
       "        text-align: right;\n",
       "    }\n",
       "</style>\n",
       "<table border=\"1\" class=\"dataframe\">\n",
       "  <thead>\n",
       "    <tr style=\"text-align: right;\">\n",
       "      <th></th>\n",
       "      <th>name</th>\n",
       "      <th>x</th>\n",
       "      <th>y</th>\n",
       "      <th>#</th>\n",
       "      <th>ID</th>\n",
       "    </tr>\n",
       "  </thead>\n",
       "  <tbody>\n",
       "    <tr>\n",
       "      <th>0</th>\n",
       "      <td>nst1</td>\n",
       "      <td>999999</td>\n",
       "      <td>0</td>\n",
       "      <td>#</td>\n",
       "      <td>beam centroid</td>\n",
       "    </tr>\n",
       "    <tr>\n",
       "      <th>1</th>\n",
       "      <td>nst2</td>\n",
       "      <td>999999</td>\n",
       "      <td>0</td>\n",
       "      <td>#</td>\n",
       "      <td>support</td>\n",
       "    </tr>\n",
       "  </tbody>\n",
       "</table>\n",
       "</div>"
      ],
      "text/plain": [
       "   name       x  y  #             ID\n",
       "0  nst1  999999  0  #  beam centroid\n",
       "1  nst2  999999  0  #        support"
      ]
     },
     "execution_count": 27,
     "metadata": {},
     "output_type": "execute_result"
    }
   ],
   "source": [
    "non_st_nodes = pd.DataFrame([['nst1',999999, 0, '#','beam centroid'],\n",
    "                            ['nst2',999999, -0, '#','support']],columns = ['name','x','y', '#','ID'])\n",
    "# ['nst2',999999, -offset, '#','support']\n",
    "non_st_nodes_temp=[]\n",
    "if separate and debond:\n",
    "    for j in range(len(debond_sections)):\n",
    "        for i in range(len(debond_sections[j])):\n",
    "            non_st_nodes_temp.append([999999, debond_sections[j][i][1][0][2], '#','bot set '+str(j+1)+' sect '+str(debond_sections[j][i][4])])\n",
    "            non_st_nodes_temp.append([999999, debond_sections[j][i][1][1][2], '#','top set '+str(j+1)+' sect '+str(debond_sections[j][i][4])])\n",
    "non_st_nodes_temp=pd.DataFrame(non_st_nodes_temp,columns = ['x','y', '#','ID'])\n",
    "non_st_nodes=joints.name_reset(non_st_nodes,non_st_nodes_temp,prefix=\"nst\")\n",
    "non_st_nodes"
   ]
  },
  {
   "cell_type": "markdown",
   "metadata": {},
   "source": [
    "## Restraints"
   ]
  },
  {
   "cell_type": "code",
   "execution_count": 28,
   "metadata": {},
   "outputs": [
    {
     "data": {
      "text/html": [
       "<div>\n",
       "<style scoped>\n",
       "    .dataframe tbody tr th:only-of-type {\n",
       "        vertical-align: middle;\n",
       "    }\n",
       "\n",
       "    .dataframe tbody tr th {\n",
       "        vertical-align: top;\n",
       "    }\n",
       "\n",
       "    .dataframe thead th {\n",
       "        text-align: right;\n",
       "    }\n",
       "</style>\n",
       "<table border=\"1\" class=\"dataframe\">\n",
       "  <thead>\n",
       "    <tr style=\"text-align: right;\">\n",
       "      <th></th>\n",
       "      <th>name</th>\n",
       "      <th>direction</th>\n",
       "      <th>#</th>\n",
       "      <th>ID</th>\n",
       "    </tr>\n",
       "  </thead>\n",
       "  <tbody>\n",
       "    <tr>\n",
       "      <th>0</th>\n",
       "      <td>301</td>\n",
       "      <td>x+y+rz</td>\n",
       "      <td>#</td>\n",
       "      <td>support 1</td>\n",
       "    </tr>\n",
       "    <tr>\n",
       "      <th>1</th>\n",
       "      <td>302</td>\n",
       "      <td>x+y+rz</td>\n",
       "      <td>#</td>\n",
       "      <td>support 2</td>\n",
       "    </tr>\n",
       "  </tbody>\n",
       "</table>\n",
       "</div>"
      ],
      "text/plain": [
       "  name direction  #         ID\n",
       "0  301    x+y+rz  #  support 1\n",
       "1  302    x+y+rz  #  support 2"
      ]
     },
     "execution_count": 28,
     "metadata": {},
     "output_type": "execute_result"
    }
   ],
   "source": [
    "ID = utils.name_gen(\"support \",nodes_support)\n",
    "restraints = np.vstack((nodes_support['name'],['x+y+rz']*len(nodes_support),hash_tag(nodes_support),ID)).T\n",
    "# tempDF=nodes_beam.iloc[[-1]]\n",
    "# ID = utils.name_gen(\"restraint \",tempDF,1)\n",
    "# restraints2 = np.vstack((tempDF['name'],['y']*len(tempDF),hash_tag(tempDF),ID)).T\n",
    "if spreader and dynamic: restraints = np.vstack((restraints,[[utils.df_value(nodes,'load','ID','name'),'x+rz','#','load']]))\n",
    "restraints = pd.DataFrame(restraints)\n",
    "restraints.columns = ['name','direction','#','ID']\n",
    "restraints"
   ]
  },
  {
   "cell_type": "markdown",
   "metadata": {},
   "source": [
    "## Element connectivity\n",
    "\n",
    "### cbp elements - beams"
   ]
  },
  {
   "cell_type": "code",
   "execution_count": 29,
   "metadata": {},
   "outputs": [],
   "source": [
    "cbp_beam = [[nodes_beam['name'][i+1],nodes_beam.loc[i]['name'],'#', nodes_beam['x'][i], \n",
    "             nodes_beam['x'][i+1], \"beam cbp \"+str(i+1) ] for i in range(0,len(nodes_beam)-1)]\n",
    "cbp_beam = pd.DataFrame(cbp_beam,columns = ['node 1','node 2','#','start','end','ID'])\n",
    "\n",
    "sect_type = []\n",
    "temp = \"\"\n",
    "for i in range(len(cbp_beam)):\n",
    "    position = cbp_beam.loc[i]['start']+(cbp_beam.loc[i]['end']-cbp_beam.loc[i]['start'])/2\n",
    "    for j in sect_dist:\n",
    "        if j[1] <= position <= j[2]:\n",
    "            sect_type.append(j[0])\n",
    "            break\n",
    "cbp_beam.insert(0, \"section\", sect_type, True)\n",
    "cbp_beam.insert(0, \"name\", utils.name_gen(\"\",cbp_beam), True)\n",
    "\n",
    "if khalid:\n",
    "    elm_cnc=cbp_beam.copy()\n",
    "    bndT=cbp_beam[['section','node 1','node 2','#','ID']].copy()\n",
    "    bndB=bndT.copy()\n",
    "    for i in range(len(cbp_beam)):\n",
    "        if cbp_beam['section'][i]=='gsectB1':\n",
    "            bndT.at[i,'ID']='bndT '+cbp_beam['ID'][i]\n",
    "            bndT.at[i,'section']='gbndB1T'\n",
    "            bndB.at[i,'ID']='bndB '+cbp_beam['ID'][i]\n",
    "            bndB.at[i,'section']='gbndB1B'\n",
    "        else:\n",
    "            bndT.at[i,'ID']='bndT '+cbp_beam['ID'][i]\n",
    "            bndT.at[i,'section']='gbndB2T'\n",
    "            bndB.at[i,'ID']='bndB '+cbp_beam['ID'][i]\n",
    "            bndB.at[i,'section']='gbndB2B'\n",
    "        cbp_beam.at[i,'section']='gSectB'\n",
    "    elm_bnd=pd.concat([bndT,bndB],ignore_index=True)\n",
    "    elm_bnd.insert(0, \"name\", utils.name_gen(\"\",elm_bnd,start_ID=999), True)\n",
    "    elm_cbp=pd.DataFrame([])\n",
    "else: elm_cbp=cbp_beam"
   ]
  },
  {
   "cell_type": "markdown",
   "metadata": {},
   "source": [
    "### nodes & cbp elements - bars"
   ]
  },
  {
   "cell_type": "code",
   "execution_count": 30,
   "metadata": {},
   "outputs": [],
   "source": [
    "if separate:\n",
    "    nodes_deb,nodes_barT,nodes_barB=[],[],[]\n",
    "    start_ID= 401 #int(nodes.iloc[-1]['name'])+1\n",
    "    for j  in range(len(debond_sections)):\n",
    "        nodes_deb_temp=[]\n",
    "        for idx_deb, val_deb in enumerate(debond_sections[j]):\n",
    "            for idx_cbp  in range(len(cbp_beam)):\n",
    "                if cbp_beam['section'][idx_cbp] == 'g'+val_deb[j]:\n",
    "                    nodes_deb_temp.append(utils.df_index(nodes_beam,cbp_beam['node 1'][idx_cbp],'name'))\n",
    "                    nodes_deb_temp.append(utils.df_index(nodes_beam,cbp_beam['node 2'][idx_cbp],'name'))\n",
    "        nodes_deb.append(sorted(list(dict.fromkeys(nodes_deb_temp))))\n",
    "        \n",
    "\n",
    "        nodes_barB.append(nodes_beam.iloc[nodes_deb[j]].copy())\n",
    "        nodes_barB[j] = nodes_barB[j].drop(columns=['name','y', 'ID'])\n",
    "        Name = utils.name_gen(\"\",nodes_barB[j], start_ID = start_ID)\n",
    "        nodes_barB[j].insert(0, \"name\", Name, True)\n",
    "        nodes_barB[j].insert(2, \"y\", [height_B for i in range(len(nodes_barB[j]))], True)\n",
    "        Name=nodes_beam.iloc[nodes_deb[j]].copy()[['ID']]\n",
    "        for i in range(len(Name)):\n",
    "            Name.at[i,'ID']=\"bar set \"+str(j+1)+\" bot \"+Name['ID'][i]\n",
    "        #Name = utils.name_gen(\"bar set \"+str(j+1)+\" bot \",nodes_barB[j], start_ID = nodes_deb[0])\n",
    "        nodes_barB[j].insert(4, \"ID\", Name, True)\n",
    "        \n",
    "        start_ID=int(nodes_barB[j].iloc[-1]['name'])+1\n",
    "                \n",
    "        nodes_barT.append(nodes_beam.iloc[nodes_deb[j]].copy())\n",
    "        nodes_barT[j] = nodes_barT[j].drop(columns=['name','y', 'ID'])\n",
    "        Name = utils.name_gen(\"\",nodes_barT[j], start_ID = start_ID)\n",
    "        nodes_barT[j].insert(0, \"name\", Name, True)\n",
    "        nodes_barT[j].insert(2, \"y\", [height_T for i in range(len(nodes_barT[j]))], True)\n",
    "        Name=nodes_beam.iloc[nodes_deb[j]].copy()[['ID']]\n",
    "        for i in range(len(Name)):\n",
    "            Name.at[i,'ID']=\"bar set \"+str(j+1)+\" top \"+Name['ID'][i]\n",
    "        nodes_barT[j].insert(4, \"ID\", Name, True)\n",
    "        \n",
    "        start_ID=int(nodes_barT[j].iloc[-1]['name'])+1\n",
    "        \n",
    "    for j  in range(len(debond_sections)):\n",
    "        nodes=pd.concat([nodes,nodes_barB[j],nodes_barT[j]],ignore_index=True)"
   ]
  },
  {
   "cell_type": "code",
   "execution_count": 31,
   "metadata": {},
   "outputs": [],
   "source": [
    "if separate:\n",
    "    cbp_bars=[]\n",
    "    start_ID=int(cbp_beam.iloc[-1]['name'])\n",
    "    for j  in range(len(debond_sections)):\n",
    "        for idx_deb, val_deb in enumerate(debond_sections[j]):\n",
    "            for idx_cbp  in range(len(cbp_beam)):\n",
    "                if cbp_beam['section'][idx_cbp] == 'g'+val_deb[j]:\n",
    "                    start_ID+=1\n",
    "                    node1=utils.df_value(nodes,\"bar set \"+str(j+1)+\" bot \"+utils.df_value(nodes,cbp_beam['node 1'][idx_cbp],'name','ID'),'ID','name')\n",
    "                    node2=utils.df_value(nodes,\"bar set \"+str(j+1)+\" bot \"+utils.df_value(nodes,cbp_beam['node 2'][idx_cbp],'name','ID'),'ID','name')\n",
    "                    cbp_bars.append([start_ID,debond_sections[j][idx_deb][2],node1,node2,'#',cbp_beam['start'][idx_cbp],cbp_beam['end'][idx_cbp],\"bar set \"+str(j+1)+\" bot \"+cbp_beam['ID'][idx_cbp]])\n",
    "            if contReinf:\n",
    "                start_ID+=1\n",
    "                cbp_bars.append([start_ID,debond_sections[j][0][2],utils.df_value(nodes_barB[j],3000,'x','name'),utils.df_value(nodes_barB[j],2750,'x','name'),'#',2750,3000,\"bar set \"+str(j+1)+\" bot cbp MJ\"])\n",
    "        \n",
    "            for idx_cbp  in range(len(cbp_beam)):\n",
    "                if cbp_beam['section'][idx_cbp] == 'g'+val_deb[j]:\n",
    "                    start_ID+=1\n",
    "                    node1=utils.df_value(nodes,\"bar set \"+str(j+1)+\" top \"+utils.df_value(nodes,cbp_beam['node 1'][idx_cbp],'name','ID'),'ID','name')\n",
    "                    node2=utils.df_value(nodes,\"bar set \"+str(j+1)+\" top \"+utils.df_value(nodes,cbp_beam['node 2'][idx_cbp],'name','ID'),'ID','name')\n",
    "                    cbp_bars.append([start_ID,debond_sections[j][idx_deb][3],node1,node2,'#',cbp_beam['start'][idx_cbp],cbp_beam['end'][idx_cbp],\"bar set \"+str(j+1)+\" top \"+cbp_beam['ID'][idx_cbp]])\n",
    "            if contReinf:\n",
    "                start_ID+=1\n",
    "                cbp_bars.append([start_ID,debond_sections[j][0][3],utils.df_value(nodes_barT[j],3000,'x','name'),utils.df_value(nodes_barT[j],2750,'x','name'),'#',2750,3000,\"bar set \"+str(j+1)+\" top cbp MJ\"])\n",
    "        \n",
    "    cbp_bars = pd.DataFrame(cbp_bars,columns = ['name','section','node 1','node 2','#','start','end','ID'])\n",
    "    cbp_bars=cbp_bars.sort_values('node 1',ascending=True).reset_index(drop=True)\n",
    "    elm_cbp = pd.concat([elm_cbp,cbp_bars])\n",
    "    elm_cbp = elm_cbp.reset_index(drop=True)"
   ]
  },
  {
   "cell_type": "markdown",
   "metadata": {},
   "source": [
    "### cbm"
   ]
  },
  {
   "cell_type": "code",
   "execution_count": 32,
   "metadata": {},
   "outputs": [],
   "source": [
    "if dynamic and not khalid: # khalid accointed for in cnc and bnd\n",
    "    elm_cbm=cbp_beam[['name','section','node 1','node 2','#','ID']].copy()\n",
    "    for i in range(len(elm_cbm)):\n",
    "        elm_cbm.at[i,'ID']='cbm '+elm_cbm['name'][i]\n",
    "        elm_cbm.at[i,'name']='799'+elm_cbm['name'][i]\n",
    "        elm_cbm.at[i,'section']='gmasCon'\n",
    "else: elm_cbm=pd.DataFrame([])\n",
    "# if dynamic and separate:\n",
    "#     cbm_bar=cbp_beam[['name','section','node 1','node 2','#','ID']].copy()\n",
    "#     for i in range(len(cbm)):\n",
    "#         cbm_bar.at[i,'ID']='cbm '+cbm_bar['name'][i]\n",
    "#         cbm_bar.at[i,'name']='129'+cbm_bar['name'][i]\n",
    "#         if 'top' in cbm['ID'][i]: cbm_bar.at[i,'section']='gmasBarT'\n",
    "#         else: cbm_bar.at[i,'section']='gmasBarB'\n",
    "#     cbm=pd.concat([cbm,cbm_bar],ignore_index=True)"
   ]
  },
  {
   "cell_type": "markdown",
   "metadata": {},
   "source": [
    "### jel elements\n",
    "\n",
    "#### jel support elements"
   ]
  },
  {
   "cell_type": "code",
   "execution_count": 33,
   "metadata": {},
   "outputs": [
    {
     "data": {
      "text/html": [
       "<div>\n",
       "<style scoped>\n",
       "    .dataframe tbody tr th:only-of-type {\n",
       "        vertical-align: middle;\n",
       "    }\n",
       "\n",
       "    .dataframe tbody tr th {\n",
       "        vertical-align: top;\n",
       "    }\n",
       "\n",
       "    .dataframe thead th {\n",
       "        text-align: right;\n",
       "    }\n",
       "</style>\n",
       "<table border=\"1\" class=\"dataframe\">\n",
       "  <thead>\n",
       "    <tr style=\"text-align: right;\">\n",
       "      <th></th>\n",
       "      <th>name</th>\n",
       "      <th>section</th>\n",
       "      <th>node 1</th>\n",
       "      <th>node 2</th>\n",
       "      <th>nst node</th>\n",
       "      <th>#</th>\n",
       "      <th>ID</th>\n",
       "    </tr>\n",
       "  </thead>\n",
       "  <tbody>\n",
       "    <tr>\n",
       "      <th>0</th>\n",
       "      <td>503</td>\n",
       "      <td>gjelSup1</td>\n",
       "      <td>301</td>\n",
       "      <td>1</td>\n",
       "      <td>nst2</td>\n",
       "      <td>#</td>\n",
       "      <td>jel support 1</td>\n",
       "    </tr>\n",
       "    <tr>\n",
       "      <th>1</th>\n",
       "      <td>504</td>\n",
       "      <td>gjelSup2</td>\n",
       "      <td>302</td>\n",
       "      <td>61</td>\n",
       "      <td>nst2</td>\n",
       "      <td>#</td>\n",
       "      <td>jel support 2</td>\n",
       "    </tr>\n",
       "  </tbody>\n",
       "</table>\n",
       "</div>"
      ],
      "text/plain": [
       "   name   section node 1 node 2 nst node  #             ID\n",
       "0   503  gjelSup1    301      1     nst2  #  jel support 1\n",
       "1   504  gjelSup2    302     61     nst2  #  jel support 2"
      ]
     },
     "execution_count": 33,
     "metadata": {},
     "output_type": "execute_result"
    }
   ],
   "source": [
    "jel_sup=pd.DataFrame([[503,'gjelSup1',utils.df_value(nodes_support,'support node 1','ID','name'),nodes_beam.iloc[0]['name'],utils.df_value(non_st_nodes,'support','ID','name'),'#','jel support 1'],\n",
    "                     [504,'gjelSup2',utils.df_value(nodes_support,'support node 2','ID','name'),nodes_beam.iloc[-1]['name'],utils.df_value(non_st_nodes,'support','ID','name'),'#','jel support 2']],\n",
    "                         columns=['name','section','node 1','node 2','nst node','#','ID'])\n",
    "jel_sup"
   ]
  },
  {
   "cell_type": "markdown",
   "metadata": {},
   "source": [
    "### jel beams to rebar elements"
   ]
  },
  {
   "cell_type": "code",
   "execution_count": 34,
   "metadata": {},
   "outputs": [],
   "source": [
    "if separate:\n",
    "    jel_bar=[]\n",
    "    start_ID=int(jel_sup.iloc[-1]['name'])\n",
    "    for j  in range(len(debond_sections)):\n",
    "        for idx_deb, val_deb in enumerate(debond_sections[j]):\n",
    "            for idx_cbp  in range(len(cbp_beam)):\n",
    "                if cbp_beam['section'][idx_cbp] == 'g'+val_deb[j]:\n",
    "                    node1=cbp_beam['node 1'][idx_cbp]\n",
    "                    node2=utils.df_value(nodes,\"bar set \"+str(j+1)+\" bot \"+utils.df_value(nodes,cbp_beam['node 1'][idx_cbp],'name','ID'),'ID','name')\n",
    "                    if any(node2 in s for s in jel_bar): pass # print('drop '+node2)\n",
    "                    else:\n",
    "                        start_ID+=1\n",
    "                        if debond:\n",
    "                            jel_bar.append([start_ID,'gjel'+str(j+1)+'BM'+str(debond_sections[j][idx_deb][4]),node1,node2,utils.df_value(non_st_nodes,'beam centroid','ID','name'),'#',\"bar set \"+str(j+1)+\" bot \"+cbp_beam['ID'][idx_cbp]+' node 1'])\n",
    "                            #jel_bar.append([start_ID,'gjel'+str(j+1)+'BM'+str(debond_sections[j][idx_deb][4]),node1,node2,utils.df_value(non_st_nodes,'bot set '+str(j+1)+' sect '+str(debond_sections[j][idx_deb][4]),'ID','name'),'#',\"bar set \"+str(j+1)+\" bot \"+cbp_beam['ID'][idx_cbp]+' node 1'])\n",
    "                        else:\n",
    "                            jel_bar.append([start_ID,'gjelrig',node1,node2,utils.df_value(non_st_nodes,'beam centroid','ID','name'),'#',\"bar set \"+str(j+1)+\" bot \"+cbp_beam['ID'][idx_cbp]+' node 1'])\n",
    "                    node1=cbp_beam['node 2'][idx_cbp]\n",
    "                    node2=utils.df_value(nodes,\"bar set \"+str(j+1)+\" bot \"+utils.df_value(nodes,cbp_beam['node 2'][idx_cbp],'name','ID'),'ID','name')\n",
    "                    if any(node2 in s for s in jel_bar): pass # print('drop '+node2)\n",
    "                    else:\n",
    "                        start_ID+=1\n",
    "                        if debond:\n",
    "                            jel_bar.append([start_ID,'gjel'+str(j+1)+'BM'+str(debond_sections[j][idx_deb][4]),node1,node2,utils.df_value(non_st_nodes,'beam centroid','ID','name'),'#',\"bar set \"+str(j+1)+\" bot \"+cbp_beam['ID'][idx_cbp]+' node 2'])\n",
    "                            #jel_bar.append([start_ID,'gjel'+str(j+1)+'BM'+str(debond_sections[j][idx_deb][4]),node1,node2,utils.df_value(non_st_nodes,'bot set '+str(j+1)+' sect '+str(debond_sections[j][idx_deb][4]),'ID','name'),'#',\"bar set \"+str(j+1)+\" bot \"+cbp_beam['ID'][idx_cbp]+' node 2'])\n",
    "                        else:\n",
    "                            jel_bar.append([start_ID,'gjelrig',node1,node2,utils.df_value(non_st_nodes,'beam centroid','ID','name'),'#',\"bar set \"+str(j+1)+\" bot \"+cbp_beam['ID'][idx_cbp]+' node 2'])          \n",
    "#             if contReinf:\n",
    "#                 start_ID+=1\n",
    "#                 jel_bar.append([start_ID,'gjelBJ',utils.df_value(nodes_beam,2750,'x','name'),utils.df_value(nodes_barB[j],2750,'x','name'),utils.df_value(non_st_nodes,'bot set 1 sect 1','ID','name'),'#',\"bar set 1 bot cbp MJ node 1\"])\n",
    "#                 start_ID+=1\n",
    "#                 jel_bar.append([start_ID,'gjelBJ',utils.df_value(nodes_beam,3000,'x','name'),utils.df_value(nodes_barB[j],3000,'x','name'),utils.df_value(non_st_nodes,'bot set 1 sect 1','ID','name'),'#',\"bar set 1 bot cbp MJ node 2\"])\n",
    "        \n",
    "            for idx_cbp  in range(len(cbp_beam)):\n",
    "                if cbp_beam['section'][idx_cbp] == 'g'+val_deb[j]:\n",
    "                    node1=cbp_beam['node 1'][idx_cbp]\n",
    "                    node2=utils.df_value(nodes,\"bar set \"+str(j+1)+\" top \"+utils.df_value(nodes,cbp_beam['node 1'][idx_cbp],'name','ID'),'ID','name')\n",
    "                    if any(node2 in s for s in jel_bar): pass # print('drop '+node2)\n",
    "                    else:\n",
    "                        start_ID+=1\n",
    "                        if debond:\n",
    "                            jel_bar.append([start_ID,'gjel'+str(j+1)+'TM'+str(debond_sections[j][idx_deb][4]),node1,node2,utils.df_value(non_st_nodes,'beam centroid','ID','name'),'#',\"bar set \"+str(j+1)+\" top \"+cbp_beam['ID'][idx_cbp]+' node 1'])\n",
    "                            #jel_bar.append([start_ID,'gjel'+str(j+1)+'TM'+str(debond_sections[j][idx_deb][4]),node1,node2,utils.df_value(non_st_nodes,'top set '+str(j+1)+' sect '+str(debond_sections[j][idx_deb][4]),'ID','name'),'#',\"bar set \"+str(j+1)+\" top \"+cbp_beam['ID'][idx_cbp]+' node 1'])\n",
    "                        else:\n",
    "                            jel_bar.append([start_ID,'gjelrig',node1,node2,utils.df_value(non_st_nodes,'beam centroid','ID','name'),'#',\"bar set \"+str(j+1)+\" top \"+cbp_beam['ID'][idx_cbp]+' node 1'])\n",
    "                    node1=cbp_beam['node 2'][idx_cbp]\n",
    "                    node2=utils.df_value(nodes,\"bar set \"+str(j+1)+\" top \"+utils.df_value(nodes,cbp_beam['node 2'][idx_cbp],'name','ID'),'ID','name')\n",
    "                    if any(node2 in s for s in jel_bar): pass # print('drop '+node2)\n",
    "                    else:\n",
    "                        start_ID+=1\n",
    "                        if debond:\n",
    "                            jel_bar.append([start_ID,'gjel'+str(j+1)+'TM'+str(debond_sections[j][idx_deb][4]),node1,node2,utils.df_value(non_st_nodes,'beam centroid','ID','name'),'#',\"bar set \"+str(j+1)+\" top \"+cbp_beam['ID'][idx_cbp]+' node 2'])\n",
    "                            #jel_bar.append([start_ID,'gjel'+str(j+1)+'TM'+str(debond_sections[j][idx_deb][4]),node1,node2,utils.df_value(non_st_nodes,'top set '+str(j+1)+' sect '+str(debond_sections[j][idx_deb][4]),'ID','name'),'#',\"bar set \"+str(j+1)+\" top \"+cbp_beam['ID'][idx_cbp]+' node 2'])\n",
    "                        else:\n",
    "                            jel_bar.append([start_ID,'gjelrig',node1,node2,utils.df_value(non_st_nodes,'beam centroid','ID','name'),'#',\"bar set \"+str(j+1)+\" top \"+cbp_beam['ID'][idx_cbp]+' node 2'])\n",
    "#             if contReinf:\n",
    "#                 start_ID+=1\n",
    "#                 jel_bar.append([start_ID,'gjelTJ',utils.df_value(nodes_beam,2750,'x','name'),utils.df_value(nodes_barT[j],2750,'x','name'),utils.df_value(non_st_nodes,'bot set 1 sect 1','ID','name'),'#',\"bar set 1 top cbp MJ node 1\"])\n",
    "#                 start_ID+=1\n",
    "#                 jel_bar.append([start_ID,'gjelTJ',utils.df_value(nodes_beam,3000,'x','name'),utils.df_value(nodes_barT[j],3000,'x','name'),utils.df_value(non_st_nodes,'bot set 1 sect 1','ID','name'),'#',\"bar set 1 top cbp MJ node 2\"])\n",
    "    jel_bar = pd.DataFrame(jel_bar,columns = ['name','section','node 1','node 2','nst node','#','ID'])\n",
    "    if jelRigid:\n",
    "        for i in range(len(jel_bar)):\n",
    "            if (utils.df_value(cbp_beam,0,'start','ID')+' ' in jel_bar['ID'][i]) and ('node 2' in jel_bar['ID'][i]): jel_bar.at[i,'section']='gjelrig'\n",
    "            elif (cbp_beam.iloc[-1,cbp_beam.columns.get_loc('ID')]+' ' in jel_bar['ID'][i]) and ('node 1' in jel_bar['ID'][i]): jel_bar.at[i,'section']='gjelrig'\n",
    "#         elif (utils.df_value(cbp_beam,0,'start','ID') and 'node 1') in jel_bar['ID'][i]: jel_bar.at[i,'section']='gjelrig'\n",
    "#         elif (utils.df_value(cbp_beam,0,'start','ID') and 'node 1') in jel_bar['ID'][i]: jel_bar.at[i,'section']='gjelrig'\n"
   ]
  },
  {
   "cell_type": "markdown",
   "metadata": {},
   "source": [
    "### rigid links"
   ]
  },
  {
   "cell_type": "code",
   "execution_count": 35,
   "metadata": {},
   "outputs": [],
   "source": [
    "elm_lnk=pd.DataFrame([])"
   ]
  },
  {
   "cell_type": "markdown",
   "metadata": {},
   "source": [
    "### sprd"
   ]
  },
  {
   "cell_type": "code",
   "execution_count": 36,
   "metadata": {},
   "outputs": [],
   "source": [
    "if spreader and dynamic: elm_sprd = pd.DataFrame([[99999,'gsprd']+sprd_name])"
   ]
  },
  {
   "cell_type": "markdown",
   "metadata": {},
   "source": [
    "#### assemble jel elements"
   ]
  },
  {
   "cell_type": "code",
   "execution_count": 37,
   "metadata": {},
   "outputs": [
    {
     "data": {
      "text/html": [
       "<div>\n",
       "<style scoped>\n",
       "    .dataframe tbody tr th:only-of-type {\n",
       "        vertical-align: middle;\n",
       "    }\n",
       "\n",
       "    .dataframe tbody tr th {\n",
       "        vertical-align: top;\n",
       "    }\n",
       "\n",
       "    .dataframe thead th {\n",
       "        text-align: right;\n",
       "    }\n",
       "</style>\n",
       "<table border=\"1\" class=\"dataframe\">\n",
       "  <thead>\n",
       "    <tr style=\"text-align: right;\">\n",
       "      <th></th>\n",
       "      <th>name</th>\n",
       "      <th>section</th>\n",
       "      <th>node 1</th>\n",
       "      <th>node 2</th>\n",
       "      <th>nst node</th>\n",
       "      <th>#</th>\n",
       "      <th>ID</th>\n",
       "    </tr>\n",
       "  </thead>\n",
       "  <tbody>\n",
       "    <tr>\n",
       "      <th>0</th>\n",
       "      <td>503</td>\n",
       "      <td>gjelSup1</td>\n",
       "      <td>301</td>\n",
       "      <td>1</td>\n",
       "      <td>nst2</td>\n",
       "      <td>#</td>\n",
       "      <td>jel support 1</td>\n",
       "    </tr>\n",
       "    <tr>\n",
       "      <th>1</th>\n",
       "      <td>504</td>\n",
       "      <td>gjelSup2</td>\n",
       "      <td>302</td>\n",
       "      <td>61</td>\n",
       "      <td>nst2</td>\n",
       "      <td>#</td>\n",
       "      <td>jel support 2</td>\n",
       "    </tr>\n",
       "  </tbody>\n",
       "</table>\n",
       "</div>"
      ],
      "text/plain": [
       "   name   section node 1 node 2 nst node  #             ID\n",
       "0   503  gjelSup1    301      1     nst2  #  jel support 1\n",
       "1   504  gjelSup2    302     61     nst2  #  jel support 2"
      ]
     },
     "execution_count": 37,
     "metadata": {},
     "output_type": "execute_result"
    }
   ],
   "source": [
    "if separate:\n",
    "    elm_jel = pd.concat([jel_sup,jel_bar])\n",
    "else:\n",
    "    elm_jel=jel_sup\n",
    "elm_jel = elm_jel.reset_index(drop=True)\n",
    "elm_jel#.head(50)"
   ]
  },
  {
   "cell_type": "markdown",
   "metadata": {},
   "source": [
    "#### Khalid restraints"
   ]
  },
  {
   "cell_type": "code",
   "execution_count": 38,
   "metadata": {},
   "outputs": [],
   "source": [
    "if khalid:\n",
    "    left='fa5+fa8+fa11'\n",
    "    right='fa6+fa9+fa12'\n",
    "    khalid_restraints = [[utils.df_value(elm_cnc,0,'start','name'),right],\n",
    "        [utils.df_value(elm_cnc,3000,'end','name'),left],\n",
    "        [utils.df_value(elm_bnd,'bndT '+utils.df_value(elm_cnc,0,'start','ID'),'ID','name'),'fa2'],\n",
    "        [utils.df_value(elm_bnd,'bndB '+utils.df_value(elm_cnc,0,'start','ID'),'ID','name'),'fa2'],\n",
    "        [utils.df_value(elm_bnd,'bndT '+utils.df_value(elm_cnc,3000,'end','ID'),'ID','name'),'fa1'],\n",
    "        [utils.df_value(elm_bnd,'bndB '+utils.df_value(elm_cnc,3000,'end','ID'),'ID','name'),'fa1']]"
   ]
  },
  {
   "cell_type": "markdown",
   "metadata": {},
   "source": [
    "## Print node and element lines in .dat files"
   ]
  },
  {
   "cell_type": "code",
   "execution_count": 39,
   "metadata": {},
   "outputs": [],
   "source": [
    "all_lines = add('#')\n",
    "all_lines = add('materials')\n",
    "all_lines = add('mat.name model properties')\n",
    "for i in material_lst:\n",
    "    all_lines = add(i.adaptic_print())\n",
    "    \n",
    "all_lines = add('#')\n",
    "all_lines = add('sections')\n",
    "if section_rcts_lst !=[]:\n",
    "    all_lines = add('type = rcts')\n",
    "    all_lines = add('sec.name mat.name dimensions')\n",
    "    for i in section_rcts_lst:\n",
    "        all_lines = add(i.adaptic_print())\n",
    "if section_rccs_lst !=[]:\n",
    "    all_lines = add('type = rccs')\n",
    "    all_lines = add('sec.name mat.name dimensions')\n",
    "    for i in section_rccs_lst:\n",
    "        all_lines = add(i.adaptic_print())\n",
    "if section_rss_lst !=[]:\n",
    "    all_lines = add('type = rss')\n",
    "    all_lines = add('sec.name mat.name dimensions')\n",
    "    for i in section_rss_lst:\n",
    "        all_lines = add(i.adaptic_print())\n",
    "if section_isec_lst !=[]:\n",
    "    all_lines = add('type = isec')\n",
    "    all_lines = add('sec.name mat.name dimensions')\n",
    "    for i in section_isec_lst:\n",
    "        all_lines = add(i.adaptic_print())\n",
    "\n",
    "all_lines = add('#')\n",
    "all_lines = add('groups')\n",
    "if not elm_cbp.empty:\n",
    "    all_lines = add('type.of.element = cbp2')\n",
    "    all_lines = add('grp.name sec.name monitoring.points')\n",
    "    for i in cbp_lst:\n",
    "        all_lines = add(utils.str_joint(i))\n",
    "if not elm_cnc.empty:\n",
    "    all_lines = add('type.of.element = cnc2')\n",
    "    all_lines = add('grp.name sec.name monitoring.points residual.shear.retention density')\n",
    "    for i in cnc_lst:\n",
    "        all_lines = add(utils.str_joint(i))\n",
    "if not elm_bnd.empty:\n",
    "    all_lines = add('type.of.element = bnd2')\n",
    "    all_lines = add('grp.name  mat.names area   perimeter distance density')\n",
    "    for i in bnd_lst:\n",
    "        all_lines = add(utils.str_joint(i))\n",
    "if not elm_cbm.empty:\n",
    "    all_lines = add('type.of.element = cbm2')\n",
    "    all_lines = add('grp.name mass')\n",
    "    for i in cbm_lst:\n",
    "        all_lines = add(utils.str_joint(i))\n",
    "if not elm_lnk.empty:\n",
    "    all_lines = add('type.of.element = lnk2')\n",
    "    all_lines = add('grp.name stiffness.parameters')\n",
    "    for i in lnk_lst:\n",
    "        all_lines = add(i.printout)\n",
    "if not elm_jel.empty:\n",
    "    all_lines = add('type.of.element = jel2')\n",
    "    all_lines = add('grp.name curve.types parameters')\n",
    "    for i in jel_lst:\n",
    "        all_lines = add(i.printout)\n",
    "if not elm_sprd.empty:\n",
    "    all_lines = add('type.of.element = sprd')\n",
    "    all_lines = add('grp.name direction spread.nodes ratios.of.spread')\n",
    "    for i in sprd_lst:\n",
    "        all_lines = add(utils.str_joint(i))\n",
    "    \n",
    "all_lines = add('#')\n",
    "all_lines = add('structural.nodal.coordinates')\n",
    "all_lines = add('nod.n x y')\n",
    "for i in range(len(nodes)):\n",
    "    all_lines = add(nodes.loc[[i]].to_string(header=False, index=False))\n",
    "\n",
    "all_lines = add('#')\n",
    "all_lines = add('non.structural.nodal.coordinates')\n",
    "all_lines = add('nod.n x y')\n",
    "for i in range(len(non_st_nodes)):\n",
    "    all_lines = add(non_st_nodes.loc[[i]].to_string(header=False, index=False))\n",
    "    \n",
    "all_lines = add('#')\n",
    "all_lines = add('element.connectivity')\n",
    "all_lines = add('elm.name grp.name nod.')\n",
    "all_lines = add('# name node1, node2, start, end, ID')\n",
    "if not elm_cbp.empty:\n",
    "    all_lines = add('# cbp elements')\n",
    "    for i in range(len(elm_cbp)):\n",
    "        all_lines = add(elm_cbp.loc[[i]].to_string(header=False, index=False))\n",
    "if not elm_cnc.empty:\n",
    "    all_lines = add('# cnc elements')\n",
    "    for i in range(len(elm_cnc)):\n",
    "        all_lines = add(elm_cnc.loc[[i]].to_string(header=False, index=False))\n",
    "if not elm_bnd.empty:\n",
    "    all_lines = add('# bnd elements')\n",
    "    for i in range(len(elm_bnd)):\n",
    "        all_lines = add(elm_bnd.loc[[i]].to_string(header=False, index=False))\n",
    "if not elm_jel.empty:\n",
    "    all_lines = add('# jel elements')\n",
    "    for i in range(len(elm_jel)):\n",
    "        all_lines = add(elm_jel.loc[[i]].to_string(header=False, index=False))\n",
    "if not elm_lnk.empty:\n",
    "    all_lines = add('# lnk elements')\n",
    "    for i in range(len(elm_lnk)):\n",
    "        all_lines = add(elm_lnk.loc[[i]].to_string(header=False, index=False))\n",
    "if not elm_sprd.empty:\n",
    "    all_lines = add('# sprd elements')\n",
    "    for i in range(len(elm_sprd)):\n",
    "        all_lines = add(elm_sprd.loc[[i]].to_string(header=False, index=False))\n",
    "if not elm_cbm.empty:\n",
    "    all_lines = add('# cbm elements')\n",
    "    for i in range(len(elm_cbm)):\n",
    "        all_lines = add(elm_cbm.loc[[i]].to_string(header=False, index=False))\n",
    "\n",
    "all_lines = add('#')\n",
    "all_lines = add('restraints')\n",
    "all_lines = add('nod.n direction')\n",
    "for i in range(len(restraints)):\n",
    "    all_lines = add(restraints.loc[[i]].to_string(header=False, index=False))\n",
    "if khalid:\n",
    "    all_lines = add('elm.name freedom')\n",
    "    for i in khalid_restraints:\n",
    "        all_lines = add(utils.str_joint(i))"
   ]
  },
  {
   "cell_type": "markdown",
   "metadata": {},
   "source": [
    "## Loading"
   ]
  },
  {
   "cell_type": "code",
   "execution_count": 40,
   "metadata": {},
   "outputs": [],
   "source": [
    "maxDisp = 600\n",
    "steps = maxDisp*2\n",
    "time=maxDisp\n",
    "nodes_temp=[utils.df_index(nodes,'load','ID')]\n",
    "if dynamic and loadAcceleration:\n",
    "    forceType = 'acceleration'\n",
    "    force = 0\n",
    "else:\n",
    "    forceType = 'force'\n",
    "    force = -1E+3\n",
    "load = pd.DataFrame([[nodes.loc[i]['name'],'y',forceType,force,'#',\n",
    "                      nodes.loc[i]['ID']] for i in nodes_temp])\n",
    "load.columns = ['node','direction','type','value','#','ID']\n",
    "\n",
    "\n",
    "if dynamic:\n",
    "    load.insert(3, \"crv\", pd.DataFrame(['c1' for i in range(len(load))]), True)\n",
    "    all_lines = add('linear.curves # curves for time history loads')\n",
    "    all_lines = add('start.time =  0')\n",
    "    all_lines = add('crv.name = c1')\n",
    "    all_lines = add('time load.factor')\n",
    "    if loadAcceleration: all_lines = add(str(time)+' 1')\n",
    "    else: all_lines = add('200 150')\n",
    "    all_lines = add('#')\n",
    "    all_lines = add('applied.loading')\n",
    "    if loadAcceleration: \n",
    "        loadInit=load.drop(labels='crv',axis=1)\n",
    "        loadInit['type']='velocity'\n",
    "        loadInit['value']=-1 #  velocity of 1 mm/s ?'\n",
    "        loadInit['ID']= '#  velocity of 1 mm/s'\n",
    "        load['ID']= '#  zero acceleration'\n",
    "        if spreader:\n",
    "            all_lines = add('# Note dynamic load specified first to associate node '+str(loadInit.iloc[0]['node'])+' with dynamic')\n",
    "            all_lines = add('# entities, otherwise it cannot be subjected to initial velocity. This')\n",
    "            all_lines = add('# sequence would not be necessary if the node had some mass or damping')\n",
    "            all_lines = add('dynamic.loads')\n",
    "            all_lines = add('nod.name direction type crv.name value')\n",
    "            for i in range(len(load)):\n",
    "                all_lines = add(load.loc[[i]].to_string(header=False, index=False))\n",
    "            all_lines = add('initial.loads')\n",
    "            all_lines = add('nod.name direction type value')\n",
    "            for i in range(len(loadInit)):\n",
    "                all_lines = add(loadInit.loc[[i]].to_string(header=False, index=False))\n",
    "        else:   \n",
    "            all_lines = add('initial.loads')\n",
    "            all_lines = add('nod.name direction type value')\n",
    "            for i in range(len(loadInit)):\n",
    "                all_lines = add(loadInit.loc[[i]].to_string(header=False, index=False))\n",
    "            all_lines = add('dynamic.loads')\n",
    "            all_lines = add('nod.name direction type crv.name value')\n",
    "            for i in range(len(load)):\n",
    "                all_lines = add(load.loc[[i]].to_string(header=False, index=False))\n",
    "    else:   \n",
    "        all_lines = add('dynamic.loads')\n",
    "        all_lines = add('nod.name direction type crv.name value')\n",
    "        for i in range(len(load)):\n",
    "            all_lines = add(load.loc[[i]].to_string(header=False, index=False))\n",
    "else:\n",
    "    all_lines = add('#')\n",
    "    all_lines = add('applied.loading')\n",
    "    all_lines = add('proportional.loads')\n",
    "    all_lines = add('nod.name direction type value')\n",
    "    for i in range(len(load)):\n",
    "        all_lines = add(load.loc[[i]].to_string(header=False, index=False))"
   ]
  },
  {
   "cell_type": "markdown",
   "metadata": {},
   "source": [
    "## analysis parameters"
   ]
  },
  {
   "cell_type": "markdown",
   "metadata": {},
   "source": [
    "### Dynamic analysis parameters"
   ]
  },
  {
   "cell_type": "code",
   "execution_count": 41,
   "metadata": {},
   "outputs": [],
   "source": [
    "# integration\n",
    "if dynamic:\n",
    "    integration = [['integration'],\n",
    "    ['scheme = hilber'],\n",
    "    ['alpha = -0.3'],\n",
    "    ['beta = 1.21'],\n",
    "    ['gamma = 0.8']]\n",
    "    analysis = integration\n",
    "    # equilibrium stages\n",
    "    stages=[['equilibrium.stages'],\n",
    "    ['end.of.stage steps'],\n",
    "    [str(time)+' '+str(steps)]]\n",
    "    analysis.extend(stages)\n",
    "    # solution\n",
    "    solution = [['solution.of.equations'],\n",
    "               ['solver = mumps']]\n",
    "    analysis.extend(solution)"
   ]
  },
  {
   "cell_type": "markdown",
   "metadata": {},
   "source": [
    "## conditions"
   ]
  },
  {
   "cell_type": "code",
   "execution_count": 42,
   "metadata": {},
   "outputs": [],
   "source": [
    "if not dynamic:\n",
    "    all_lines = add('#')\n",
    "    cond = [['conditions'],\n",
    "    ['lf.cnd.name limits'],\n",
    "    ['c_lf', 0, 10],\n",
    "    ['disp.cnd.name direction limits'],\n",
    "    ['c_d_x','x',-2000,2000],\n",
    "    ['c_d_y','y',-2000,2000],\n",
    "    ['#']]\n",
    "    analysis = cond"
   ]
  },
  {
   "cell_type": "markdown",
   "metadata": {},
   "source": [
    "### phases"
   ]
  },
  {
   "cell_type": "code",
   "execution_count": 43,
   "metadata": {},
   "outputs": [],
   "source": [
    "if not dynamic:\n",
    "    node2track = utils.df_value(nodes,\"load\",\"ID\",\"name\")\n",
    "    phases = [['phases'],\n",
    "    ['load.control'],\n",
    "    ['increment path steps'],\n",
    "    [3, 'k', 100],\n",
    "    ['displacement.control'],\n",
    "    ['nod.name direction increment path steps'],\n",
    "    [node2track, 'x', 100, 'c', 1000],\n",
    "    ['#direction increment path steps #Arc length method if node omitted'],\n",
    "    ['#x+y', 1000, 'c', 300],\n",
    "    ['automatic.control'],\n",
    "    ['type path cnd.name'],\n",
    "    ['nod.control translation c c_lf c_d_x c_d_y'],\n",
    "    ['#']]\n",
    "    analysis.extend(phases)"
   ]
  },
  {
   "cell_type": "markdown",
   "metadata": {},
   "source": [
    "### iterative strategy"
   ]
  },
  {
   "cell_type": "code",
   "execution_count": 44,
   "metadata": {},
   "outputs": [],
   "source": [
    "iterative_str = [['iterative.strategy'],\n",
    "['number.of.iterations = ',20],\n",
    "['initial.reformations = ',20, '#if equal to number.of.iterations it is Full N-R'],\n",
    "['step.reduction = ',10, '# step reduction'],\n",
    "['divergence.iteration = ',10, '# no of iteration after which divergence is checked'],\n",
    "['maximum.convergence = ',1.00E+20, '# iterations terminated if this convergence is exceeded'],\n",
    "['#']]\n",
    "analysis.extend(iterative_str)"
   ]
  },
  {
   "cell_type": "markdown",
   "metadata": {},
   "source": [
    "### convergence criteria"
   ]
  },
  {
   "cell_type": "code",
   "execution_count": 45,
   "metadata": {},
   "outputs": [],
   "source": [
    "convergance = [['convergence.criteria'],\n",
    "['tolerance = ',1.00E-05, '# tolerance against which the convergence norm is compared'],\n",
    "['work.ref = ',1.60E+09,'#work reference'],\n",
    "['# force.ref = 1.00E+07 # used with the norm of out-of-balance forces to determine convergence'],\n",
    "['# moment.ref = 1.00E+05 # used with the norm of out-of-balance moments to determine convergence'],\n",
    "['#']]\n",
    "analysis.extend(convergance)"
   ]
  },
  {
   "cell_type": "markdown",
   "metadata": {},
   "source": [
    "### output"
   ]
  },
  {
   "cell_type": "code",
   "execution_count": 46,
   "metadata": {},
   "outputs": [],
   "source": [
    "freq = 2 # results every `freq` output\n",
    "output = [['output'],\n",
    "['frequency '+str(freq)+' stress # output results for all equilibrium step, including step reductions'],\n",
    "['#'],\n",
    "['end']]\n",
    "analysis.extend(output)"
   ]
  },
  {
   "cell_type": "markdown",
   "metadata": {},
   "source": [
    "### print all the analysis parameters"
   ]
  },
  {
   "cell_type": "code",
   "execution_count": 47,
   "metadata": {},
   "outputs": [],
   "source": [
    "for i in analysis:\n",
    "    all_lines = add(utils.str_joint(i))"
   ]
  },
  {
   "cell_type": "markdown",
   "metadata": {},
   "source": [
    "## save file\n",
    "\n",
    "Convert `all_lines` variable to a _*.dat_ file."
   ]
  },
  {
   "cell_type": "code",
   "execution_count": 48,
   "metadata": {},
   "outputs": [
    {
     "name": "stdout",
     "output_type": "stream",
     "text": [
      "File con1_khalid_plast_soft.dat has been succesfully created.\n"
     ]
    }
   ],
   "source": [
    "if save_file:\n",
    "    f= open('data/'+project_name+\".dat\",\"w+\")\n",
    "    for i in all_lines:\n",
    "         f.write(i[0]+\"\\n\")\n",
    "    f.close()\n",
    "    print(\"File {0}.dat has been succesfully created.\".format(project_name))"
   ]
  },
  {
   "cell_type": "code",
   "execution_count": 1,
   "metadata": {},
   "outputs": [
    {
     "ename": "NameError",
     "evalue": "name 'save_pickle' is not defined",
     "output_type": "error",
     "traceback": [
      "\u001b[1;31m---------------------------------------------------------------------------\u001b[0m",
      "\u001b[1;31mNameError\u001b[0m                                 Traceback (most recent call last)",
      "\u001b[1;32m<ipython-input-1-c116616b7b33>\u001b[0m in \u001b[0;36m<module>\u001b[1;34m\u001b[0m\n\u001b[1;32m----> 1\u001b[1;33m \u001b[1;32mif\u001b[0m \u001b[0msave_pickle\u001b[0m\u001b[1;33m:\u001b[0m\u001b[1;33m\u001b[0m\u001b[1;33m\u001b[0m\u001b[0m\n\u001b[0m\u001b[0;32m      2\u001b[0m     \u001b[1;32mimport\u001b[0m \u001b[0mpickle\u001b[0m\u001b[1;33m\u001b[0m\u001b[1;33m\u001b[0m\u001b[0m\n\u001b[0;32m      3\u001b[0m     \u001b[0mmodel\u001b[0m \u001b[1;33m=\u001b[0m \u001b[1;33m[\u001b[0m\u001b[0mmaterial_lst\u001b[0m\u001b[1;33m,\u001b[0m\u001b[0msection_lst\u001b[0m\u001b[1;33m,\u001b[0m\u001b[0mgroup_lst\u001b[0m\u001b[1;33m,\u001b[0m\u001b[0mnodes\u001b[0m\u001b[1;33m,\u001b[0m\u001b[0mnon_st_nodes\u001b[0m\u001b[1;33m,\u001b[0m\u001b[0mrestraints\u001b[0m\u001b[1;33m,\u001b[0m\u001b[0melm_cbp\u001b[0m\u001b[1;33m,\u001b[0m\u001b[0melm_jel\u001b[0m\u001b[1;33m,\u001b[0m\u001b[0melm_lnk\u001b[0m\u001b[1;33m,\u001b[0m\u001b[0melm_cbm\u001b[0m\u001b[1;33m,\u001b[0m\u001b[0melm_bnd\u001b[0m\u001b[1;33m,\u001b[0m\u001b[0melm_cnc\u001b[0m\u001b[1;33m,\u001b[0m\u001b[0mload\u001b[0m\u001b[1;33m,\u001b[0m\u001b[0malm_sprd\u001b[0m\u001b[1;33m]\u001b[0m\u001b[1;33m\u001b[0m\u001b[1;33m\u001b[0m\u001b[0m\n\u001b[0;32m      4\u001b[0m     \u001b[1;32mwith\u001b[0m \u001b[0mopen\u001b[0m\u001b[1;33m(\u001b[0m\u001b[1;34m'data/'\u001b[0m\u001b[1;33m+\u001b[0m\u001b[0mproject_name\u001b[0m\u001b[1;33m+\u001b[0m\u001b[1;34m'.pkl'\u001b[0m\u001b[1;33m,\u001b[0m \u001b[1;34m\"wb\"\u001b[0m\u001b[1;33m)\u001b[0m \u001b[1;32mas\u001b[0m \u001b[0mf\u001b[0m\u001b[1;33m:\u001b[0m\u001b[1;33m\u001b[0m\u001b[1;33m\u001b[0m\u001b[0m\n\u001b[0;32m      5\u001b[0m         \u001b[0mpickle\u001b[0m\u001b[1;33m.\u001b[0m\u001b[0mdump\u001b[0m\u001b[1;33m(\u001b[0m\u001b[0mmodel\u001b[0m\u001b[1;33m,\u001b[0m \u001b[0mf\u001b[0m\u001b[1;33m)\u001b[0m\u001b[1;33m\u001b[0m\u001b[1;33m\u001b[0m\u001b[0m\n",
      "\u001b[1;31mNameError\u001b[0m: name 'save_pickle' is not defined"
     ]
    }
   ],
   "source": [
    "if save_pickle:\n",
    "    import pickle\n",
    "    model = [material_lst,section_lst,group_lst,nodes,non_st_nodes,restraints,elm_cbp,elm_jel,elm_lnk,elm_cbm,elm_bnd,elm_cnc,load,elm_sprd]\n",
    "    with open('data/'+project_name+'.pkl', \"wb\") as f:\n",
    "        pickle.dump(model, f)\n",
    "             \n",
    "    f.close()    \n",
    "    print('Saved pickle as '+project_name+'.pkl')"
   ]
  },
  {
   "cell_type": "code",
   "execution_count": 50,
   "metadata": {},
   "outputs": [
    {
     "data": {
      "image/png": "[encoded data removed]",
      "text/plain": [
       "<Figure size 720x144 with 1 Axes>"
      ]
     },
     "metadata": {
      "needs_background": "light"
     },
     "output_type": "display_data"
    }
   ],
   "source": [
    "if True:\n",
    "    colors = []\n",
    "    labels = []\n",
    "    fig, ax = plt.subplots(figsize=(10,2))\n",
    "    ax.grid(which='major', linestyle=':', linewidth='0.5', color='black')\n",
    "    markersize=3\n",
    "    if not elm_cbp.empty:\n",
    "        colors.append('blue')\n",
    "        labels.append('cbp')\n",
    "        for i in range(len(elm_cbp)):\n",
    "            x=[float(utils.df_value(nodes,elm_cbp['node 1'][i],'name','x')),float(utils.df_value(nodes,elm_cbp['node 2'][i],'name','x'))]\n",
    "            y=[float(utils.df_value(nodes,elm_cbp['node 1'][i],'name','y')),float(utils.df_value(nodes,elm_cbp['node 2'][i],'name','y'))]\n",
    "#             if elm_cbp['section'][i] == 'gsectB1a':ax.plot(x,y,'-', linewidth=2, marker='o',markersize=markersize,color = 'orange')\n",
    "            ax.plot(x,y,'-', linewidth=2, marker='o',markersize=markersize,color = 'blue')\n",
    "    if not elm_cnc.empty:\n",
    "        colors.append('grey')\n",
    "        labels.append('cnc')\n",
    "        for i in range(len(elm_cnc)):\n",
    "            x=[float(utils.df_value(nodes,elm_cnc['node 1'][i],'name','x')),float(utils.df_value(nodes,elm_cnc['node 2'][i],'name','x'))]\n",
    "            y=[float(utils.df_value(nodes,elm_cnc['node 1'][i],'name','y')),float(utils.df_value(nodes,elm_cnc['node 2'][i],'name','y'))]\n",
    "            ax.plot(x,y,'-', linewidth=2, marker='o',markersize=markersize,color = 'grey')\n",
    "    if not elm_lnk.empty:\n",
    "        colors.append('green')\n",
    "        labels.append('lnk')\n",
    "        for i in range(len(elm_lnk)):\n",
    "            x=[float(utils.df_value(nodes,elm_lnk['node 1'][i],'name','x')),float(utils.df_value(nodes,elm_lnk['node 2'][i],'name','x'))]\n",
    "            y=[float(utils.df_value(nodes,elm_lnk['node 1'][i],'name','y')),float(utils.df_value(nodes,elm_lnk['node 2'][i],'name','y'))]\n",
    "            ax.plot(x,y,'-', linewidth=2, marker='s', markersize=markersize,color = 'green')\n",
    "    if not elm_jel.empty:\n",
    "        colors.append('red')\n",
    "        labels.append('jel')\n",
    "        for i in range(len(elm_jel)):\n",
    "            x=[float(utils.df_value(nodes,elm_jel['node 1'][i],'name','x')),float(utils.df_value(nodes,elm_jel['node 2'][i],'name','x'))]\n",
    "            y=[float(utils.df_value(nodes,elm_jel['node 1'][i],'name','y')),float(utils.df_value(nodes,elm_jel['node 2'][i],'name','y'))]\n",
    "            if elm_jel['section'][i]== 'gjelVCon':\n",
    "                ax.plot(x,y,'-', linewidth=2, marker='P',markersize=3, color = 'red')\n",
    "            else:\n",
    "                ax.plot(x,y,'-', linewidth=2, marker='P',markersize=3, color = 'red')\n",
    "    if spreader:\n",
    "        colors.append('orange')\n",
    "        labels.append('sprd master')\n",
    "        colors.append('purple')\n",
    "        labels.append('sprd slave')\n",
    "        i=sprd_name[0]\n",
    "        ax.plot(float(utils.df_value(nodes,i,'name','x')),float(utils.df_value(nodes,i,'name','y')),'-', marker='X',markersize=10, color = 'orange')\n",
    "        for i in sprd_name[2:]:\n",
    "            ax.plot(float(utils.df_value(nodes,i,'name','x')),float(utils.df_value(nodes,i,'name','y')),'-', marker='X',markersize=10, color = 'purple')\n",
    "            \n",
    "    if True:\n",
    "        from matplotlib.lines import Line2D\n",
    "        lines = [Line2D([0], [0], color=c, linewidth=3, linestyle='-') for c in colors]\n",
    "        ax.legend(lines,labels, bbox_to_anchor=(1.2, 0.65))\n",
    "    \n",
    "    plt.axis('equal')\n",
    "    #ax.set_xlim(9000,12000)\n",
    "    #plt.savefig('structure.pdf') \n",
    "    #plt.savefig('structure.png') \n",
    "    plt.show()"
   ]
  },
  {
   "cell_type": "code",
   "execution_count": 51,
   "metadata": {},
   "outputs": [
    {
     "data": {
      "image/png": "[encoded data removed]",
      "text/plain": [
       "<Figure size 720x216 with 1 Axes>"
      ]
     },
     "metadata": {
      "needs_background": "light"
     },
     "output_type": "display_data"
    }
   ],
   "source": [
    "if True:\n",
    "    #fig, ax = plt.subplots(figsize=(25,4))\n",
    "    fig, ax = plt.subplots(figsize=(10,3))\n",
    "    ax.grid(which='major', linestyle=':', linewidth='0.5', color='black')\n",
    "    markersize=3\n",
    "    for i in range(len(elm_cbp)):\n",
    "        x=[float(utils.df_value(nodes,elm_cbp['node 1'][i],'name','x')),float(utils.df_value(nodes,elm_cbp['node 2'][i],'name','x'))]\n",
    "        y=[float(utils.df_value(nodes,elm_cbp['node 1'][i],'name','y')),float(utils.df_value(nodes,elm_cbp['node 2'][i],'name','y'))]\n",
    "#         if elm_cbp['section'][i] == 'gsectB1':\n",
    "#             ax.plot(x,y,'-', linewidth=2, marker='o',markersize=markersize,color = 'orange')\n",
    "#         elif elm_cbp['section'][i] == 'gsectB2':\n",
    "#             ax.plot(x,y,'-', linewidth=3, marker='o',markersize=markersize,color = 'brown')\n",
    "        if elm_cbp['section'][i] == 'gSect1_T':\n",
    "            ax.plot(x,y,'-', linewidth=3, marker='o',markersize=markersize,color = 'grey')\n",
    "        elif elm_cbp['section'][i] == 'gSect2_T':\n",
    "            ax.plot(x,y,'-', linewidth=3, marker='o',markersize=markersize,color = 'purple')\n",
    "        elif elm_cbp['section'][i] == 'gSect1_B':\n",
    "            ax.plot(x,y,'-', linewidth=3, marker='o',markersize=markersize,color = 'brown')\n",
    "        elif elm_cbp['section'][i] == 'gSect2_B':\n",
    "            ax.plot(x,y,'-', linewidth=3, marker='o',markersize=markersize,color = 'orange')\n",
    "        else:\n",
    "            ax.plot(x,y,'-', linewidth=2, marker='o',markersize=markersize,color = 'blue')\n",
    "#     for i in range(len(elm_lnk)):\n",
    "#         x=[float(utils.df_value(nodes,elm_lnk['node 1'][i],'name','x')),float(utils.df_value(nodes,elm_lnk['node 2'][i],'name','x'))]\n",
    "#         y=[float(utils.df_value(nodes,elm_lnk['node 1'][i],'name','y')),float(utils.df_value(nodes,elm_lnk['node 2'][i],'name','y'))]\n",
    "#         ax.plot(x,y,'-', linewidth=2, marker='s', markersize=markersize,color = 'green')\n",
    "    for i in range(len(elm_jel)):\n",
    "        x=[float(utils.df_value(nodes,elm_jel['node 1'][i],'name','x')),float(utils.df_value(nodes,elm_jel['node 2'][i],'name','x'))]\n",
    "        y=[float(utils.df_value(nodes,elm_jel['node 1'][i],'name','y')),float(utils.df_value(nodes,elm_jel['node 2'][i],'name','y'))]\n",
    "        if elm_jel['section'][i]==\"gjel1TM1\":\n",
    "            ax.plot(x,y,'-', linewidth=2, marker='P',markersize=3, color = 'grey')\n",
    "        elif elm_jel['section'][i]==\"gjel1TM2\":\n",
    "            ax.plot(x,y,'-', linewidth=2, marker='P',markersize=3, color = 'purple')\n",
    "        elif elm_jel['section'][i]==\"gjel1BM1\":\n",
    "            ax.plot(x,y,'-', linewidth=2, marker='P',markersize=3, color = 'brown')\n",
    "        elif elm_jel['section'][i]==\"gjel1BM2\":\n",
    "            ax.plot(x,y,'-', linewidth=2, marker='P',markersize=3, color = 'orange')\n",
    "        elif elm_jel['section'][i]==\"gjelrig\":\n",
    "            ax.plot(x,y,'-', linewidth=2, marker='P',markersize=3, color = 'green')\n",
    "        else:\n",
    "            ax.plot(x,y,'-', linewidth=2, marker='P',markersize=3, color = 'red')\n",
    "\n",
    "    if True:\n",
    "        from matplotlib.lines import Line2D\n",
    "        colors = ['grey', 'purple', 'brown', 'orange','blue', 'green', 'red']\n",
    "        lines = [Line2D([0], [0], color=c, linewidth=3, linestyle='-') for c in colors]\n",
    "        labels = ['gSect1_T', 'gSect2_T', 'gSect1_B', 'gSect2_B', 'Other cbp sections', 'lnk', 'jel']\n",
    "        ax.legend(lines,labels, bbox_to_anchor=(1, 0.8))\n",
    "    \n",
    "    plt.axis('equal')\n",
    "    #ax.set_xlim(2300,6300)\n",
    "    #plt.savefig('structure.pdf') \n",
    "    #plt.savefig('structure.png') \n",
    "    plt.show()"
   ]
  },
  {
   "cell_type": "code",
   "execution_count": null,
   "metadata": {},
   "outputs": [],
   "source": []
  }
 ],
 "metadata": {
  "kernelspec": {
   "display_name": "Python 3",
   "language": "python",
   "name": "python3"
  },
  "language_info": {
   "codemirror_mode": {
    "name": "ipython",
    "version": 3
   },
   "file_extension": ".py",
   "mimetype": "text/x-python",
   "name": "python",
   "nbconvert_exporter": "python",
   "pygments_lexer": "ipython3",
   "version": "3.7.6"
  }
 },
 "nbformat": 4,
 "nbformat_minor": 4
}
